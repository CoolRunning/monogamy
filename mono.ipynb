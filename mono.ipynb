{
 "cells": [
  {
   "cell_type": "markdown",
   "metadata": {},
   "source": [
    "# Usage of the API #\n",
    "$$\n",
    "\\newcommand{\\ket}[1]{|#1\\rangle}\n",
    "\\newcommand{\\bra}[1]{\\langle #1|}\n",
    "$$\n",
    "\n",
    "This notebook shows how you can use the different functions provided by the module to extend your own scripts and do some research."
   ]
  },
  {
   "cell_type": "code",
   "execution_count": 1,
   "metadata": {
    "collapsed": false
   },
   "outputs": [],
   "source": [
    "from cvxpy import *\n",
    "import numpy as np\n",
    "import monogamy as mg"
   ]
  },
  {
   "cell_type": "code",
   "execution_count": 2,
   "metadata": {
    "collapsed": true
   },
   "outputs": [],
   "source": [
    "# to avoid clutter, we set the output of floats to a lower precision\n",
    "np.set_printoptions(precision=9)\n",
    "np.set_printoptions(suppress=True)"
   ]
  },
  {
   "cell_type": "markdown",
   "metadata": {},
   "source": [
    "We want to analyse a system in which A and B share a quantum correlation and A and C. The global state $$\\rho_{ABC}$$ is thus described by a 8*8 density matrix. Semidef is used to constrain the matrix to be positive-semidefinite."
   ]
  },
  {
   "cell_type": "code",
   "execution_count": 3,
   "metadata": {
    "collapsed": false
   },
   "outputs": [],
   "source": [
    "rho_ABC = Semidef(8)"
   ]
  },
  {
   "cell_type": "markdown",
   "metadata": {},
   "source": [
    "### Feasible configuration ###\n",
    "We will analyse the case in which A and B share an EPR-pair"
   ]
  },
  {
   "cell_type": "code",
   "execution_count": 4,
   "metadata": {
    "collapsed": false
   },
   "outputs": [
    {
     "name": "stdout",
     "output_type": "stream",
     "text": [
      "[[ 0.5  0.   0.   0.5]\n",
      " [ 0.   0.   0.   0. ]\n",
      " [ 0.   0.   0.   0. ]\n",
      " [ 0.5  0.   0.   0.5]]\n"
     ]
    }
   ],
   "source": [
    "rho_AB = np.array( [ [0.5,0,0,0.5],\n",
    "                     [0] * 4,\n",
    "                     [0] * 4,\n",
    "                     [0.5,0,0,0.5]] )\n",
    "print(rho_AB)"
   ]
  },
  {
   "cell_type": "markdown",
   "metadata": {},
   "source": [
    "The only possible state in which A and C can be is the maximally mixed state, which is completely uncorrelated:"
   ]
  },
  {
   "cell_type": "code",
   "execution_count": 5,
   "metadata": {
    "collapsed": false
   },
   "outputs": [
    {
     "name": "stdout",
     "output_type": "stream",
     "text": [
      "[[ 0.25  0.    0.    0.  ]\n",
      " [ 0.    0.25  0.    0.  ]\n",
      " [ 0.    0.    0.25  0.  ]\n",
      " [ 0.    0.    0.    0.25]]\n"
     ]
    }
   ],
   "source": [
    "rho_AC = np.diag([0.25] * 4)\n",
    "print(rho_AC)"
   ]
  },
  {
   "cell_type": "markdown",
   "metadata": {
    "collapsed": false
   },
   "source": [
    "Our goal is now to find the density matrix of the global state of all three systems. This can be done by setting up the following semi-definite optimization problem:\n",
    "$$\n",
    "\\begin{align*}\n",
    "\\text{minimize}\\quad &1 \\\\\n",
    "\\text{subject to}\\quad &tr(\\rho_{ABC}) = 1 \\\\\n",
    "& \\rho_{ABC} \\geq 0 \\\\\n",
    "&tr_{C}(\\rho_{ABC}) = \\rho_{AB}^{input} \\\\\n",
    "&tr_{B}(\\rho_{ABC}) = \\rho_{AC}^{input}\n",
    "\\end{align*}\n",
    "$$\n",
    "[CVXPY](http://cvxpy.readthedocs.org/en) is able to solve this problem, given you provide it the correct expressions for the constraints and the objective function."
   ]
  },
  {
   "cell_type": "code",
   "execution_count": 6,
   "metadata": {
    "collapsed": true
   },
   "outputs": [],
   "source": [
    "# trace of rho_ABC needs to be 1\n",
    "constr = [trace(rho_ABC) == 1]"
   ]
  },
  {
   "cell_type": "markdown",
   "metadata": {},
   "source": [
    "In order to give the partial trace constraints, we have to give the global state, the marginals and a description about which subsystems are traced out. For example, the constraint describing the marginal for tracing out the last system C is described by given the list in which we mark the 3rd index with True. In general, each subsystem that we want to trace out have to be marked with True, the others with false. The last parameter describes the dimension of each subsystem. As we have only qubits in this example, the dimension for A,B and C is 2."
   ]
  },
  {
   "cell_type": "code",
   "execution_count": 7,
   "metadata": {
    "collapsed": false
   },
   "outputs": [],
   "source": [
    "# each entry of matrix rho_ABC must fullfil an equality constraint\n",
    "constr += mg.partial_trace_constraints(rho_ABC, rho_AB, [False,False,True], [2,2,2])\n",
    "constr += mg.partial_trace_constraints(rho_ABC, rho_AC, [False,True,False], [2,2,2])"
   ]
  },
  {
   "cell_type": "code",
   "execution_count": 8,
   "metadata": {
    "collapsed": true
   },
   "outputs": [],
   "source": [
    "# we only search conditions so we do not need to define an objective\n",
    "obj = Minimize(1)"
   ]
  },
  {
   "cell_type": "code",
   "execution_count": 9,
   "metadata": {
    "collapsed": true
   },
   "outputs": [],
   "source": [
    "# define problem\n",
    "prob = Problem(obj, constr)"
   ]
  },
  {
   "cell_type": "markdown",
   "metadata": {},
   "source": [
    "The next step calls a solver to solve the optimization problem. It will output the optimal value, which is only a dummy in our case and has no meaning."
   ]
  },
  {
   "cell_type": "code",
   "execution_count": 10,
   "metadata": {
    "collapsed": false
   },
   "outputs": [
    {
     "data": {
      "text/plain": [
       "1.0"
      ]
     },
     "execution_count": 10,
     "metadata": {},
     "output_type": "execute_result"
    }
   ],
   "source": [
    "prob.solve()"
   ]
  },
  {
   "cell_type": "markdown",
   "metadata": {},
   "source": [
    "If a solution was found, the solver will return \"optimal\". If no solution exists (which means that the quantum correlations can not coexist) the solver will return \"infeasible\" (more information about [different problem statuses](http://cvxpy.readthedocs.org/en/latest/tutorial/intro/index.html#other-problem-statuses))"
   ]
  },
  {
   "cell_type": "code",
   "execution_count": 11,
   "metadata": {
    "collapsed": false
   },
   "outputs": [
    {
     "name": "stdout",
     "output_type": "stream",
     "text": [
      "optimal\n"
     ]
    }
   ],
   "source": [
    "print(prob.status)"
   ]
  },
  {
   "cell_type": "markdown",
   "metadata": {},
   "source": [
    "This is how you obtain the global state:"
   ]
  },
  {
   "cell_type": "code",
   "execution_count": 12,
   "metadata": {
    "collapsed": false
   },
   "outputs": [
    {
     "name": "stdout",
     "output_type": "stream",
     "text": [
      "[[ 0.25  0.    0.    0.    0.    0.    0.25  0.  ]\n",
      " [ 0.    0.25  0.    0.    0.    0.    0.    0.25]\n",
      " [ 0.    0.    0.    0.    0.    0.    0.    0.  ]\n",
      " [ 0.    0.    0.    0.    0.    0.    0.    0.  ]\n",
      " [ 0.    0.    0.    0.    0.    0.    0.    0.  ]\n",
      " [ 0.    0.    0.    0.    0.    0.    0.    0.  ]\n",
      " [ 0.25  0.    0.    0.    0.    0.    0.25  0.  ]\n",
      " [ 0.    0.25  0.    0.    0.    0.    0.    0.25]]\n"
     ]
    }
   ],
   "source": [
    "if prob.status == OPTIMAL:\n",
    "    print(rho_ABC.value)\n",
    "    sol_ABC = np.array(rho_ABC.value)\n",
    "else:\n",
    "    print(\"There was no solution found, solver returned: \", prob.status)"
   ]
  },
  {
   "cell_type": "markdown",
   "metadata": {},
   "source": [
    "The module contains some functions in order to help you analyse density operators. In particular, you can check for a matrix if it is positive semi-definite and if it is a valid density operator:"
   ]
  },
  {
   "cell_type": "code",
   "execution_count": 13,
   "metadata": {
    "collapsed": false,
    "scrolled": false
   },
   "outputs": [
    {
     "name": "stdout",
     "output_type": "stream",
     "text": [
      "Solution positive-semidefinite? -> True\n",
      "Solution valid density operator? -> True\n"
     ]
    }
   ],
   "source": [
    "if prob.status == OPTIMAL:\n",
    "    print(\"Solution positive-semidefinite? ->\", mg.is_psd(sol_ABC))\n",
    "    print(\"Solution valid density operator? ->\", mg.is_density_operator(sol_ABC))\n"
   ]
  },
  {
   "cell_type": "markdown",
   "metadata": {},
   "source": [
    "As we have the global state now, we can check if the partial trace equals with our inputs. The partial trace function takes similar parameters as the partial trace constraints function. We report the sum of squared errors between the matrix-elements as a measure for precision:"
   ]
  },
  {
   "cell_type": "code",
   "execution_count": 14,
   "metadata": {
    "collapsed": false
   },
   "outputs": [
    {
     "name": "stdout",
     "output_type": "stream",
     "text": [
      "[[ 0.5  0.   0.   0.5]\n",
      " [ 0.   0.   0.   0. ]\n",
      " [ 0.   0.   0.   0. ]\n",
      " [ 0.5  0.   0.   0.5]]\n",
      "[[ 0.25  0.    0.    0.  ]\n",
      " [ 0.    0.25  0.    0.  ]\n",
      " [ 0.    0.    0.25  0.  ]\n",
      " [ 0.    0.    0.    0.25]]\n",
      "SSE for AB:  1.89236037186e-19\n",
      "SSE for BC:  1.73611139841e-21\n"
     ]
    }
   ],
   "source": [
    "if prob.status == OPTIMAL:\n",
    "    sol_AB = mg.partial_trace(sol_ABC,[False,False,True],[2,2,2])\n",
    "    sol_AC = mg.partial_trace(sol_ABC,[False,True,False],[2,2,2])\n",
    "    print(sol_AB)\n",
    "    print(sol_AC)\n",
    "    print(\"SSE for AB: \", np.sum((sol_AB - rho_AB)**2))\n",
    "    print(\"SSE for BC: \", np.sum((sol_AC - rho_AC)**2))  "
   ]
  },
  {
   "cell_type": "markdown",
   "metadata": {
    "collapsed": false,
    "scrolled": false
   },
   "source": [
    "### Infeasible configuration ###\n",
    "Let us also analyse the case in which A and B share an EPR-pair, but A and C have a tiny correlation. The theory tells us, that in this case, there should be no valid global state. In order to produce a tine-correlated state between A and C we will use the werner-function with a very little value:"
   ]
  },
  {
   "cell_type": "code",
   "execution_count": 15,
   "metadata": {
    "collapsed": false
   },
   "outputs": [
    {
     "name": "stdout",
     "output_type": "stream",
     "text": [
      "[[ 0.255  0.     0.     0.01 ]\n",
      " [ 0.     0.245  0.     0.   ]\n",
      " [ 0.     0.     0.245  0.   ]\n",
      " [ 0.01   0.     0.     0.255]]\n"
     ]
    }
   ],
   "source": [
    "rho_AC_noise = mg.werner(0.02)\n",
    "print(rho_AC_noise)"
   ]
  },
  {
   "cell_type": "markdown",
   "metadata": {},
   "source": [
    "We rebuild the optimization problem and try to solve it:"
   ]
  },
  {
   "cell_type": "code",
   "execution_count": 16,
   "metadata": {
    "collapsed": false
   },
   "outputs": [
    {
     "name": "stdout",
     "output_type": "stream",
     "text": [
      "There was no solution found, solver returned:  infeasible\n"
     ]
    }
   ],
   "source": [
    "rho_ABC = Semidef(8)\n",
    "# trace of rho_ABC needs to be 1\n",
    "constr = [trace(rho_ABC) == 1]\n",
    "# each entry of matrix rho_ABC must fullfil an equality constraint\n",
    "constr += mg.partial_trace_constraints(rho_ABC, rho_AB, [False,False,True], [2,2,2])\n",
    "constr += mg.partial_trace_constraints(rho_ABC, rho_AC_noise, [False,True,False], [2,2,2])\n",
    "# we only search conditions so we do not need to define an objective\n",
    "obj = Minimize(1)\n",
    "# define problem\n",
    "prob = Problem(obj, constr)\n",
    "prob.solve()\n",
    "\n",
    "if prob.status == OPTIMAL:\n",
    "    print(rho_ABC.value)\n",
    "    sol_ABC = np.array(rho_ABC.value)\n",
    "else:\n",
    "    print(\"There was no solution found, solver returned: \", prob.status)"
   ]
  },
  {
   "cell_type": "markdown",
   "metadata": {},
   "source": [
    "As expected, the strong correlation between A and B prevents any entanglement of A and C. Lets see if we can weaken the correlation between A and B such that the problem becomes feasible again. In particular, we want to figure out how the correlation between A and B can get. Instead of using the more atomic calls to the API we will use the construct_global_state function for this purpose. We define a little function for this purpose:"
   ]
  },
  {
   "cell_type": "code",
   "execution_count": 17,
   "metadata": {
    "collapsed": false
   },
   "outputs": [],
   "source": [
    "def max_werner(rho_AC_noise, prec=0.001, output=True):\n",
    "    \"\"\" perform binary search to find the parameter for a werner state that\n",
    "        maximizes entanglement between A and B, given a correlation between A\n",
    "        and C \"\"\"\n",
    "    # parameters for global state construction\n",
    "    n = 3\n",
    "    d = [2,2,2]\n",
    "    \n",
    "    # parameters for binary search\n",
    "    l = 0.0\n",
    "    r = 1.0\n",
    "    mid_old = 1.0\n",
    "    mid_new = 0.0\n",
    "   \n",
    "    while np.fabs(mid_old - mid_new) > prec:\n",
    "        mid_old = mid_new\n",
    "        mid_new = (l + r) / 2.0\n",
    "        if output:\n",
    "            print(mid_new)\n",
    "        rho_AB_noise = mg.werner(mid_new)\n",
    "        marg1 = (rho_AB_noise, [False, False, True])\n",
    "        marg2 = (rho_AC_noise, [False, True, False])\n",
    "        (state, rho_g) = mg.construct_global_state(n,d,[marg1,marg2])\n",
    "        if state == OPTIMAL:\n",
    "            l = mid_new\n",
    "        else:\n",
    "            r = mid_new\n",
    "    \n",
    "    return mid_new"
   ]
  },
  {
   "cell_type": "markdown",
   "metadata": {},
   "source": [
    "We execute the function with our previous example:"
   ]
  },
  {
   "cell_type": "code",
   "execution_count": 18,
   "metadata": {
    "collapsed": false
   },
   "outputs": [
    {
     "name": "stdout",
     "output_type": "stream",
     "text": [
      "0.5\n",
      "0.75\n",
      "0.875\n",
      "0.9375\n",
      "0.96875\n",
      "0.984375\n",
      "0.9921875\n",
      "0.99609375\n",
      "0.998046875\n",
      "0.9990234375\n",
      "werner parameter =  0.9990234375\n",
      "[[ 0.499755859  0.           0.           0.499511719]\n",
      " [ 0.           0.000244141  0.           0.         ]\n",
      " [ 0.           0.           0.000244141  0.         ]\n",
      " [ 0.499511719  0.           0.           0.499755859]]\n"
     ]
    }
   ],
   "source": [
    "w = max_werner(rho_AC_noise)\n",
    "print('werner parameter = ', w)\n",
    "print(mg.werner(w))"
   ]
  },
  {
   "cell_type": "markdown",
   "metadata": {},
   "source": [
    "This state has still a high entanglement. We expect to have a degeneration in entanglement, if we raise the noise between A and C:"
   ]
  },
  {
   "cell_type": "code",
   "execution_count": 19,
   "metadata": {
    "collapsed": false
   },
   "outputs": [
    {
     "name": "stdout",
     "output_type": "stream",
     "text": [
      "0.5\n",
      "0.75\n",
      "0.875\n",
      "0.8125\n",
      "0.78125\n",
      "0.796875\n",
      "0.8046875\n",
      "0.80859375\n",
      "0.810546875\n",
      "0.8095703125\n",
      "werner parameter =  0.8095703125\n",
      "[[ 0.452392578  0.           0.           0.404785156]\n",
      " [ 0.           0.047607422  0.           0.         ]\n",
      " [ 0.           0.           0.047607422  0.         ]\n",
      " [ 0.404785156  0.           0.           0.452392578]]\n"
     ]
    }
   ],
   "source": [
    "rho_AC_noise = mg.werner(0.5)\n",
    "w = max_werner(rho_AC_noise)\n",
    "print('werner parameter = ', w)\n",
    "print(mg.werner(w))"
   ]
  },
  {
   "cell_type": "markdown",
   "metadata": {},
   "source": [
    "Interesting! Let us create a plot that shows the maximal entanglemed werner state parameter w_ent given a noise parameter w_noise.\n"
   ]
  },
  {
   "cell_type": "code",
   "execution_count": 20,
   "metadata": {
    "collapsed": false
   },
   "outputs": [],
   "source": [
    "# NOTE: Executing this might take some time...\n",
    "x = np.linspace(0,1,50)\n",
    "y = [max_werner(mg.werner(x_c), output=False) for x_c in x]"
   ]
  },
  {
   "cell_type": "code",
   "execution_count": 21,
   "metadata": {
    "collapsed": true
   },
   "outputs": [],
   "source": [
    "%matplotlib inline\n",
    "import matplotlib.pyplot as plt"
   ]
  },
  {
   "cell_type": "code",
   "execution_count": 22,
   "metadata": {
    "collapsed": false
   },
   "outputs": [
    {
     "data": {
      "text/plain": [
       "<matplotlib.text.Text at 0x7fa9710c8dd8>"
      ]
     },
     "execution_count": 22,
     "metadata": {},
     "output_type": "execute_result"
    },
    {
     "data": {
      "image/png": "[encoded data removed]",
      "text/plain": [
       "<matplotlib.figure.Figure at 0x7fa97139ea58>"
      ]
     },
     "metadata": {},
     "output_type": "display_data"
    }
   ],
   "source": [
    "plt.plot(x,y,'x--')\n",
    "plt.xlabel('w of state AC')\n",
    "plt.ylabel('maximal w of state AB')"
   ]
  },
  {
   "cell_type": "markdown",
   "metadata": {},
   "source": [
    "In fact, the entropy of the state between A and B can be (crudely) approximated by a linear function:"
   ]
  },
  {
   "cell_type": "code",
   "execution_count": 23,
   "metadata": {
    "collapsed": false
   },
   "outputs": [
    {
     "data": {
      "text/plain": [
       "<matplotlib.text.Text at 0x7fa9710702e8>"
      ]
     },
     "execution_count": 23,
     "metadata": {},
     "output_type": "execute_result"
    },
    {
     "data": {
      "image/png": "[encoded data removed]",
      "text/plain": [
       "<matplotlib.figure.Figure at 0x7fa9710cb358>"
      ]
     },
     "metadata": {},
     "output_type": "display_data"
    }
   ],
   "source": [
    "plt.plot(x,[mg.entropy(mg.werner(y_c)) for y_c in y],'xr--')\n",
    "plt.plot([0,1],[0,2], 'b-')\n",
    "plt.xlabel('w of state AC')\n",
    "plt.ylabel('entropy of state between AB')"
   ]
  }
 ],
 "metadata": {
  "kernelspec": {
   "display_name": "Python 3",
   "language": "python",
   "name": "python3"
  },
  "language_info": {
   "codemirror_mode": {
    "name": "ipython",
    "version": 3
   },
   "file_extension": ".py",
   "mimetype": "text/x-python",
   "name": "python",
   "nbconvert_exporter": "python",
   "pygments_lexer": "ipython3",
   "version": "3.4.3"
  }
 },
 "nbformat": 4,
 "nbformat_minor": 0
}
