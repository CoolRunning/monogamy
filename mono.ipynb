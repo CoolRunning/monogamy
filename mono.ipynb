{
 "cells": [
  {
   "cell_type": "markdown",
   "metadata": {},
   "source": [
    "# Usage of the API #\n",
    "$$\n",
    "\\newcommand{\\ket}[1]{|#1\\rangle}\n",
    "\\newcommand{\\bra}[1]{\\langle #1|}\n",
    "$$\n",
    "\n",
    "This notebook shows how you can use the different functions provided by the module to extend your own scripts and do some research."
   ]
  },
  {
   "cell_type": "code",
   "execution_count": 1,
   "metadata": {
    "collapsed": false
   },
   "outputs": [],
   "source": [
    "from cvxpy import *\n",
    "import numpy as np\n",
    "import monogamy as mg"
   ]
  },
  {
   "cell_type": "code",
   "execution_count": 2,
   "metadata": {
    "collapsed": true
   },
   "outputs": [],
   "source": [
    "# to avoid clutter, we set the output of floats to a lower precision\n",
    "np.set_printoptions(precision=9)\n",
    "np.set_printoptions(suppress=True)"
   ]
  },
  {
   "cell_type": "markdown",
   "metadata": {},
   "source": [
    "We want to analyse a system in which A, B and A, C share a quantum correlation. The global state $$\\rho_{ABC}$$ is thus described by a $8 \\times 8$ density matrix. Semidef is used to constrain the matrix to be positive-semidefinite."
   ]
  },
  {
   "cell_type": "code",
   "execution_count": 3,
   "metadata": {
    "collapsed": false
   },
   "outputs": [],
   "source": [
    "rho_ABC = Semidef(8)"
   ]
  },
  {
   "cell_type": "markdown",
   "metadata": {},
   "source": [
    "### Feasible configuration ###\n",
    "We will analyse the case in which A and B share an EPR-pair"
   ]
  },
  {
   "cell_type": "code",
   "execution_count": 4,
   "metadata": {
    "collapsed": false
   },
   "outputs": [
    {
     "name": "stdout",
     "output_type": "stream",
     "text": [
      "[[ 0.5  0.   0.   0.5]\n",
      " [ 0.   0.   0.   0. ]\n",
      " [ 0.   0.   0.   0. ]\n",
      " [ 0.5  0.   0.   0.5]]\n"
     ]
    }
   ],
   "source": [
    "rho_AB = np.array( [ [0.5,0,0,0.5],\n",
    "                     [0] * 4,\n",
    "                     [0] * 4,\n",
    "                     [0.5,0,0,0.5]] )\n",
    "print(rho_AB)"
   ]
  },
  {
   "cell_type": "markdown",
   "metadata": {},
   "source": [
    "The only possible state in which A and C can be is the maximally mixed state, which is completely uncorrelated:"
   ]
  },
  {
   "cell_type": "code",
   "execution_count": 5,
   "metadata": {
    "collapsed": false
   },
   "outputs": [
    {
     "name": "stdout",
     "output_type": "stream",
     "text": [
      "[[ 0.25  0.    0.    0.  ]\n",
      " [ 0.    0.25  0.    0.  ]\n",
      " [ 0.    0.    0.25  0.  ]\n",
      " [ 0.    0.    0.    0.25]]\n"
     ]
    }
   ],
   "source": [
    "rho_AC = np.diag([0.25] * 4)\n",
    "print(rho_AC)"
   ]
  },
  {
   "cell_type": "markdown",
   "metadata": {
    "collapsed": false
   },
   "source": [
    "Our goal is now to find the density matrix of the global state of all three systems. This can be done by setting up the following semi-definite optimization problem:\n",
    "$$\n",
    "\\begin{align*}\n",
    "\\text{minimize}\\quad &1 \\\\\n",
    "\\text{subject to}\\quad &tr(\\rho_{ABC}) = 1 \\\\\n",
    "& \\rho_{ABC} \\geq 0 \\\\\n",
    "&tr_{C}(\\rho_{ABC}) = \\rho_{AB}^{input} \\\\\n",
    "&tr_{B}(\\rho_{ABC}) = \\rho_{AC}^{input}\n",
    "\\end{align*}\n",
    "$$\n",
    "[CVXPY](http://cvxpy.readthedocs.org/en) is able to solve this problem, given you provide the correct expressions for the constraints and the objective function to it."
   ]
  },
  {
   "cell_type": "code",
   "execution_count": 6,
   "metadata": {
    "collapsed": true
   },
   "outputs": [],
   "source": [
    "# trace of rho_ABC needs to be 1\n",
    "constr = [trace(rho_ABC) == 1]"
   ]
  },
  {
   "cell_type": "markdown",
   "metadata": {},
   "source": [
    "In order to give the partial trace constraints, we have to give the global state, the marginals and a description about which subsystems are traced out. For example, the constraint describing the marginal for tracing out the last system C is described by given the list in which we mark the 3rd index with True. In general, each subsystem that we want to trace out have to be marked with True, the others with False (they can also be given as a list of indices). The last parameter describes the dimension of each subsystem. As we have only qubits in this example, the dimension for A,B and C is 2."
   ]
  },
  {
   "cell_type": "code",
   "execution_count": 7,
   "metadata": {
    "collapsed": false
   },
   "outputs": [],
   "source": [
    "# each entry of matrix rho_ABC must fullfil an equality constraint\n",
    "constr += mg.partial_trace_constraints(rho_ABC, rho_AB, [False,False,True], [2,2,2])\n",
    "constr += mg.partial_trace_constraints(rho_ABC, rho_AC, [1], [2,2,2])"
   ]
  },
  {
   "cell_type": "code",
   "execution_count": 8,
   "metadata": {
    "collapsed": true
   },
   "outputs": [],
   "source": [
    "# we only search for feasible conditions so we do not need to define an objective\n",
    "obj = Minimize(1)"
   ]
  },
  {
   "cell_type": "code",
   "execution_count": 9,
   "metadata": {
    "collapsed": true
   },
   "outputs": [],
   "source": [
    "# define problem\n",
    "prob = Problem(obj, constr)"
   ]
  },
  {
   "cell_type": "markdown",
   "metadata": {},
   "source": [
    "The next step calls a solver to solve the optimization problem. It will output the optimal value, which is only a dummy in our case and has no meaning."
   ]
  },
  {
   "cell_type": "code",
   "execution_count": 10,
   "metadata": {
    "collapsed": false
   },
   "outputs": [
    {
     "data": {
      "text/plain": [
       "1.0"
      ]
     },
     "execution_count": 10,
     "metadata": {},
     "output_type": "execute_result"
    }
   ],
   "source": [
    "prob.solve()"
   ]
  },
  {
   "cell_type": "markdown",
   "metadata": {},
   "source": [
    "If a solution was found, the solver will return \"optimal\". If no solution exists (which means that the quantum correlations can not coexist) the solver will return \"infeasible\" (more information about [different problem statuses](http://cvxpy.readthedocs.org/en/latest/tutorial/intro/index.html#other-problem-statuses))"
   ]
  },
  {
   "cell_type": "code",
   "execution_count": 11,
   "metadata": {
    "collapsed": false
   },
   "outputs": [
    {
     "name": "stdout",
     "output_type": "stream",
     "text": [
      "optimal\n"
     ]
    }
   ],
   "source": [
    "print(prob.status)"
   ]
  },
  {
   "cell_type": "markdown",
   "metadata": {},
   "source": [
    "This is how you obtain the global state:"
   ]
  },
  {
   "cell_type": "code",
   "execution_count": 12,
   "metadata": {
    "collapsed": false
   },
   "outputs": [
    {
     "name": "stdout",
     "output_type": "stream",
     "text": [
      "[[ 0.25  0.    0.    0.    0.    0.    0.25  0.  ]\n",
      " [ 0.    0.25  0.    0.    0.    0.    0.    0.25]\n",
      " [ 0.    0.    0.    0.    0.    0.    0.    0.  ]\n",
      " [ 0.    0.    0.    0.    0.    0.    0.    0.  ]\n",
      " [ 0.    0.    0.    0.    0.    0.    0.    0.  ]\n",
      " [ 0.    0.    0.    0.    0.    0.    0.    0.  ]\n",
      " [ 0.25  0.    0.    0.    0.    0.    0.25  0.  ]\n",
      " [ 0.    0.25  0.    0.    0.    0.    0.    0.25]]\n"
     ]
    }
   ],
   "source": [
    "if prob.status == OPTIMAL:\n",
    "    print(rho_ABC.value)\n",
    "    sol_ABC = np.array(rho_ABC.value)\n",
    "else:\n",
    "    print(\"There was no solution found, solver returned: \", prob.status)"
   ]
  },
  {
   "cell_type": "markdown",
   "metadata": {},
   "source": [
    "The module contains some functions in order to help you analyse density operators. In particular, you can check for a matrix if it is positive semi-definite and if it is a valid density operator:"
   ]
  },
  {
   "cell_type": "code",
   "execution_count": 13,
   "metadata": {
    "collapsed": false,
    "scrolled": false
   },
   "outputs": [
    {
     "name": "stdout",
     "output_type": "stream",
     "text": [
      "Solution positive-semidefinite? -> True\n",
      "Solution valid density operator? -> True\n"
     ]
    }
   ],
   "source": [
    "if prob.status == OPTIMAL:\n",
    "    print(\"Solution positive-semidefinite? ->\", mg.is_psd(sol_ABC))\n",
    "    print(\"Solution valid density operator? ->\", mg.is_density_operator(sol_ABC))\n"
   ]
  },
  {
   "cell_type": "markdown",
   "metadata": {},
   "source": [
    "As we have the global state now, we can check if the partial trace equals with our inputs. The partial trace function takes similar parameters as the partial trace constraints function. We report the sum of squared errors between the matrix-elements as a measure for precision:"
   ]
  },
  {
   "cell_type": "code",
   "execution_count": 14,
   "metadata": {
    "collapsed": false
   },
   "outputs": [
    {
     "name": "stdout",
     "output_type": "stream",
     "text": [
      "[[ 0.5  0.   0.   0.5]\n",
      " [ 0.   0.   0.   0. ]\n",
      " [ 0.   0.   0.   0. ]\n",
      " [ 0.5  0.   0.   0.5]]\n",
      "[[ 0.25  0.    0.    0.  ]\n",
      " [ 0.    0.25  0.    0.  ]\n",
      " [ 0.    0.    0.25  0.  ]\n",
      " [ 0.    0.    0.    0.25]]\n",
      "SSE for AB:  1.89236037186e-19\n",
      "SSE for BC:  1.73611139841e-21\n"
     ]
    }
   ],
   "source": [
    "if prob.status == OPTIMAL:\n",
    "    sol_AB = mg.partial_trace(sol_ABC,[False,False,True],[2,2,2])\n",
    "    sol_AC = mg.partial_trace(sol_ABC,[False,True,False],[2,2,2])\n",
    "    print(sol_AB)\n",
    "    print(sol_AC)\n",
    "    print(\"SSE for AB: \", np.sum((sol_AB - rho_AB)**2))\n",
    "    print(\"SSE for BC: \", np.sum((sol_AC - rho_AC)**2))  "
   ]
  },
  {
   "cell_type": "markdown",
   "metadata": {
    "collapsed": false,
    "scrolled": false
   },
   "source": [
    "### Infeasible configuration ###\n",
    "Let us also analyse the case in which A and B share an EPR-pair, but A and C have a \"tiny correlation\". The theory tells us, that in this case, there should be no valid global state. In order to produce a correlated state between A and C we will use the werner-function with a small parameter value for $w$:"
   ]
  },
  {
   "cell_type": "code",
   "execution_count": 15,
   "metadata": {
    "collapsed": false
   },
   "outputs": [
    {
     "name": "stdout",
     "output_type": "stream",
     "text": [
      "[[ 0.255  0.     0.     0.01 ]\n",
      " [ 0.     0.245  0.     0.   ]\n",
      " [ 0.     0.     0.245  0.   ]\n",
      " [ 0.01   0.     0.     0.255]]\n"
     ]
    }
   ],
   "source": [
    "rho_AC_noise = mg.werner(0.02)\n",
    "print(rho_AC_noise)"
   ]
  },
  {
   "cell_type": "markdown",
   "metadata": {},
   "source": [
    "We rebuild the optimization problem and try to solve it:"
   ]
  },
  {
   "cell_type": "code",
   "execution_count": 16,
   "metadata": {
    "collapsed": false
   },
   "outputs": [
    {
     "name": "stdout",
     "output_type": "stream",
     "text": [
      "There was no solution found, solver returned:  infeasible\n"
     ]
    }
   ],
   "source": [
    "rho_ABC = Semidef(8)\n",
    "# trace of rho_ABC needs to be 1\n",
    "constr = [trace(rho_ABC) == 1]\n",
    "# each entry of matrix rho_ABC must fullfil an equality constraint\n",
    "constr += mg.partial_trace_constraints(rho_ABC, rho_AB, [False,False,True], [2,2,2])\n",
    "constr += mg.partial_trace_constraints(rho_ABC, rho_AC_noise, [False,True,False], [2,2,2])\n",
    "# we only search conditions so we do not need to define an objective\n",
    "obj = Minimize(1)\n",
    "# define problem\n",
    "prob = Problem(obj, constr)\n",
    "prob.solve()\n",
    "\n",
    "if prob.status == OPTIMAL:\n",
    "    print(rho_ABC.value)\n",
    "    sol_ABC = np.array(rho_ABC.value)\n",
    "else:\n",
    "    print(\"There was no solution found, solver returned: \", prob.status)"
   ]
  },
  {
   "cell_type": "markdown",
   "metadata": {},
   "source": [
    "As expected, the strong correlation between A and B prevents any correlation between A and C. Lets see if we can weaken the correlation between A and B such that the problem becomes feasible again? In particular, we want to figure out how low the correlation between A and B can get until monogamy breaks down. Instead of using the more atomic calls to the API we will use the construct_global_state function for this purpose. We define a little function as a helper for this purpose:"
   ]
  },
  {
   "cell_type": "code",
   "execution_count": 17,
   "metadata": {
    "collapsed": false
   },
   "outputs": [],
   "source": [
    "def max_werner(rho_AC_noise, prec=0.001, output=True):\n",
    "    \"\"\" perform binary search to find the parameter for a werner state that\n",
    "        maximizes correlation between A and B, given a correlation between A\n",
    "        and C \"\"\"\n",
    "    # parameters for global state construction\n",
    "    n = 3\n",
    "    d = [2,2,2]\n",
    "    \n",
    "    # parameters for binary search\n",
    "    l = 0.0\n",
    "    r = 1.0\n",
    "    mid_old = 1.0\n",
    "    mid_new = 0.0\n",
    "   \n",
    "    while np.fabs(mid_old - mid_new) > prec:\n",
    "        mid_old = mid_new\n",
    "        mid_new = (l + r) / 2.0\n",
    "        if output:\n",
    "            print(mid_new)\n",
    "        rho_AB_noise = mg.werner(mid_new)\n",
    "        marg1 = (rho_AB_noise, [False, False, True])\n",
    "        marg2 = (rho_AC_noise, [False, True, False])\n",
    "        (state, rho_g) = mg.construct_global_state(n,d,[marg1,marg2])\n",
    "        if state == OPTIMAL:\n",
    "            l = mid_new\n",
    "        else:\n",
    "            r = mid_new\n",
    "    \n",
    "    return mid_new"
   ]
  },
  {
   "cell_type": "markdown",
   "metadata": {},
   "source": [
    "We execute the function with our previous example:"
   ]
  },
  {
   "cell_type": "code",
   "execution_count": 18,
   "metadata": {
    "collapsed": false
   },
   "outputs": [
    {
     "name": "stdout",
     "output_type": "stream",
     "text": [
      "0.5\n",
      "0.75\n",
      "0.875\n",
      "0.9375\n",
      "0.96875\n",
      "0.984375\n",
      "0.9921875\n",
      "0.99609375\n",
      "0.998046875\n",
      "0.9990234375\n",
      "werner parameter =  0.9990234375\n",
      "[[ 0.499755859  0.           0.           0.499511719]\n",
      " [ 0.           0.000244141  0.           0.         ]\n",
      " [ 0.           0.           0.000244141  0.         ]\n",
      " [ 0.499511719  0.           0.           0.499755859]]\n"
     ]
    }
   ],
   "source": [
    "w = max_werner(rho_AC_noise)\n",
    "print('werner parameter = ', w)\n",
    "print(mg.werner(w))"
   ]
  },
  {
   "cell_type": "markdown",
   "metadata": {},
   "source": [
    "This state has still a high correlation. We expect to have a degeneration in correlation, if we raise the noise between A and C:"
   ]
  },
  {
   "cell_type": "code",
   "execution_count": 19,
   "metadata": {
    "collapsed": false
   },
   "outputs": [
    {
     "name": "stdout",
     "output_type": "stream",
     "text": [
      "0.5\n",
      "0.75\n",
      "0.875\n",
      "0.8125\n",
      "0.78125\n",
      "0.796875\n",
      "0.8046875\n",
      "0.80859375\n",
      "0.810546875\n",
      "0.8095703125\n",
      "werner parameter =  0.8095703125\n",
      "[[ 0.452392578  0.           0.           0.404785156]\n",
      " [ 0.           0.047607422  0.           0.         ]\n",
      " [ 0.           0.           0.047607422  0.         ]\n",
      " [ 0.404785156  0.           0.           0.452392578]]\n"
     ]
    }
   ],
   "source": [
    "rho_AC_noise = mg.werner(0.5)\n",
    "w = max_werner(rho_AC_noise)\n",
    "print('werner parameter = ', w)\n",
    "print(mg.werner(w))"
   ]
  },
  {
   "cell_type": "markdown",
   "metadata": {},
   "source": [
    "Interesting! Let us create a plot that shows the maximal werner state parameters $w_1$ and $w_2$ that are compatible in this sense:\n"
   ]
  },
  {
   "cell_type": "code",
   "execution_count": 20,
   "metadata": {
    "collapsed": false
   },
   "outputs": [],
   "source": [
    "# NOTE: Executing this might take some time...\n",
    "x = np.linspace(0,1,50)\n",
    "y_num = [max_werner(mg.werner(x_c), output=False) for x_c in x]"
   ]
  },
  {
   "cell_type": "code",
   "execution_count": 21,
   "metadata": {
    "collapsed": false
   },
   "outputs": [],
   "source": [
    "%matplotlib inline\n",
    "import matplotlib.pyplot as plt"
   ]
  },
  {
   "cell_type": "code",
   "execution_count": 22,
   "metadata": {
    "collapsed": false
   },
   "outputs": [
    {
     "data": {
      "text/plain": [
       "<matplotlib.text.Text at 0x7f25646a19b0>"
      ]
     },
     "execution_count": 22,
     "metadata": {},
     "output_type": "execute_result"
    },
    {
     "data": {
      "image/png": "[encoded data removed]",
      "text/plain": [
       "<matplotlib.figure.Figure at 0x7f25841d3630>"
      ]
     },
     "metadata": {},
     "output_type": "display_data"
    }
   ],
   "source": [
    "plt.plot(x,y_num,'x--')\n",
    "plt.xlabel('w of state AC')\n",
    "plt.ylabel('maximal w of state AB')"
   ]
  },
  {
   "cell_type": "markdown",
   "metadata": {},
   "source": [
    "In fact, it is known which two pairs of werner states are compatible (compare Johnson, Peter D. and Viola, Lorenza: [Compatible quantum correlations: on extension problems for Werner and isotropic states](http://arxiv.org/abs/1305.1342). Let $w_1$ and $w_2$ the parameters of two werner states $\\rho(w_1)_{AC}$ and $\\rho(w_2)_{AB}$, then both states are compatible if and only if\n",
    "$$\n",
    "    \\left(w_1 + w_2 - \\frac23\\right)^2 + \\left(w_1 - w_2\\right)^2 \\cdot \\frac13 \\leq \\frac49\n",
    "$$\n",
    "By turning this inequality into an equality, we can find an analytic expression that gives us the maximal compatible $w_2$ given a fixed $w_1$:\n",
    "$$\n",
    "    w_2 = f(w_1) = \\frac12 \\left( -w_1 + \\sqrt{-(w_1 - 1) (3w_1 + 1)} + 1 \\right)\n",
    "$$\n",
    "We define this formula as a function:"
   ]
  },
  {
   "cell_type": "code",
   "execution_count": 23,
   "metadata": {
    "collapsed": false
   },
   "outputs": [],
   "source": [
    "def max_werner_analytic(w):\n",
    "    return 0.5 * ( -1 * w + np.sqrt( -1 * (w - 1) * (3 * w + 1) ) + 1)"
   ]
  },
  {
   "cell_type": "markdown",
   "metadata": {},
   "source": [
    "Now we can compare our numerically obtained results with the analytical solution by computing the error as the squared difference between the analytic and numeric solution:"
   ]
  },
  {
   "cell_type": "code",
   "execution_count": 35,
   "metadata": {
    "collapsed": false
   },
   "outputs": [
    {
     "name": "stdout",
     "output_type": "stream",
     "text": [
      "0.0 9.53674316406e-07\n",
      "0.0204081632653 3.2289196832e-07\n",
      "0.0408163265306 3.92561059525e-07\n",
      "0.0612244897959 3.77401404317e-07\n",
      "0.0816326530612 4.08940213261e-07\n",
      "0.102040816327 5.49946788399e-07\n",
      "0.122448979592 6.81665465093e-07\n",
      "0.142857142857 1.67650321145e-07\n",
      "0.163265306122 8.52996598032e-07\n",
      "0.183673469388 8.13942131216e-07\n",
      "0.204081632653 2.37626110638e-07\n",
      "0.224489795918 4.2147491177e-07\n",
      "0.244897959184 1.57083242108e-07\n",
      "0.265306122449 4.88950664089e-07\n",
      "0.285714285714 1.60979970159e-07\n",
      "0.30612244898 9.14618504764e-07\n",
      "0.326530612245 9.38897012731e-07\n",
      "0.34693877551 1.93886284665e-07\n",
      "0.367346938776 3.96676274222e-07\n",
      "0.387755102041 8.41778771804e-08\n",
      "0.408163265306 2.47081907343e-07\n",
      "0.428571428571 4.86568528779e-07\n",
      "0.448979591837 3.83341187823e-07\n",
      "0.469387755102 3.01711191887e-07\n",
      "0.489795918367 8.04327567981e-07\n",
      "0.510204081633 3.97507448483e-08\n",
      "0.530612244898 2.88176423046e-09\n",
      "0.551020408163 9.87613775777e-08\n",
      "0.571428571429 3.96792931589e-07\n",
      "0.591836734694 8.27842185892e-07\n",
      "0.612244897959 2.48611678912e-07\n",
      "0.632653061224 4.0338034298e-07\n",
      "0.65306122449 3.30176602547e-07\n",
      "0.673469387755 4.06612714142e-07\n",
      "0.69387755102 9.10870358215e-07\n",
      "0.714285714286 2.02272216929e-07\n",
      "0.734693877551 7.63503566336e-07\n",
      "0.755102040816 5.45209415181e-08\n",
      "0.775510204082 1.44013236927e-07\n",
      "0.795918367347 5.89789520019e-07\n",
      "0.816326530612 2.89557924473e-07\n",
      "0.836734693878 3.48778758862e-08\n",
      "0.857142857143 1.94627411511e-08\n",
      "0.877551020408 6.5802471754e-07\n",
      "0.897959183673 1.65175574279e-07\n",
      "0.918367346939 6.93317665151e-08\n",
      "0.938775510204 2.57743705167e-08\n",
      "0.959183673469 1.63401029846e-07\n",
      "0.979591836735 3.55844077636e-07\n",
      "1.0 9.53674316406e-07\n"
     ]
    }
   ],
   "source": [
    "y_exact = [max_werner_analytic(a) for a in x]\n",
    "for a, b, c in zip(x,y_num, y_exact):\n",
    "    print(a, (b - c)**2)"
   ]
  },
  {
   "cell_type": "markdown",
   "metadata": {},
   "source": [
    "This error turns out to be sufficiently low. In fact, any deviation of our numerical results are hardly visible if we plot both together:"
   ]
  },
  {
   "cell_type": "code",
   "execution_count": 34,
   "metadata": {
    "collapsed": false
   },
   "outputs": [
    {
     "data": {
      "text/plain": [
       "<matplotlib.legend.Legend at 0x7f25643cef60>"
      ]
     },
     "execution_count": 34,
     "metadata": {},
     "output_type": "execute_result"
    },
    {
     "data": {
      "image/png": "[encoded data removed]",
      "text/plain": [
       "<matplotlib.figure.Figure at 0x7f256452f0f0>"
      ]
     },
     "metadata": {},
     "output_type": "display_data"
    }
   ],
   "source": [
    "plt.plot(x,y_num,'xb')\n",
    "plt.plot(x,y_exact,'r-')\n",
    "plt.xlabel('w of state AC')\n",
    "plt.ylabel('maximal w of state AB')\n",
    "plt.legend(['numeric', 'analytic'])"
   ]
  }
 ],
 "metadata": {
  "kernelspec": {
   "display_name": "Python 3",
   "language": "python",
   "name": "python3"
  },
  "language_info": {
   "codemirror_mode": {
    "name": "ipython",
    "version": 3
   },
   "file_extension": ".py",
   "mimetype": "text/x-python",
   "name": "python",
   "nbconvert_exporter": "python",
   "pygments_lexer": "ipython3",
   "version": "3.4.3"
  }
 },
 "nbformat": 4,
 "nbformat_minor": 0
}
