{
 "cells": [
  {
   "cell_type": "markdown",
   "metadata": {},
   "source": [
    "# Werner State monogamy #\n",
    "$$\n",
    "\\newcommand{\\ket}[1]{|#1\\rangle}\n",
    "\\newcommand{\\bra}[1]{\\langle #1|}\n",
    "$$"
   ]
  },
  {
   "cell_type": "markdown",
   "metadata": {},
   "source": [
    "The Werner states are a family of bipartite states $\\rho(w)_{AB}$ which interpolate smoothly between the maximally entangled and the uncorrelated state. They are defined as:\n",
    "$$\n",
    "\\rho(w)_{AB} = w\\ket{\\Phi_+}\\bra{\\Phi_+}_{AB} + (1-w)\\frac{I_A}{2} \\otimes \\frac{I_B}{2}\n",
    "$$\n",
    "with\n",
    "$$\n",
    "\\ket{\\Phi_+} = \\frac{\\ket{00}+\\ket{11}}{\\sqrt{2}}\n",
    "$$\n",
    "Being the EPR-pair.\n",
    "\n",
    "We know that for $w = 1$ we have a maximally entangled state, which is monogamous and can thus only be shared by two parties. However, if we lower $w$, entanglements with third parties becomes possible. The research question now is the following:\n",
    "\n",
    "Given a bipartite state $\\sigma_{AB}$, what is the largest integer $k$ such that there exists a state $\\sigma_{AB_1B_2\\ldots B_k}$ with the correct marginals $\\sigma_{AB_j} = \\sigma_{AB}$ for every $j = 1, 2, \\ldots, k$? This value shall be denoted with $k_{max}$. You can think of $k_{max}$ as the maximal number of partners that Alice can share a werner-state with a given parameter of $w$.\n",
    "\n",
    "The following script will determine numerically the values of $w$ for which $k_{max}$ increases."
   ]
  },
  {
   "cell_type": "code",
   "execution_count": 6,
   "metadata": {
    "collapsed": true
   },
   "outputs": [],
   "source": [
    "from cvxpy import *\n",
    "import numpy as np\n",
    "import monogamy as mg"
   ]
  },
  {
   "cell_type": "markdown",
   "metadata": {},
   "source": [
    "We define two useful helperfunctions."
   ]
  },
  {
   "cell_type": "code",
   "execution_count": 7,
   "metadata": {
    "collapsed": true
   },
   "outputs": [],
   "source": [
    "def share_k(rho_AB, k):\n",
    "    \"\"\" returns True if the state rho_AB can be shared by k parties\n",
    "    \"\"\"\n",
    "    d = [2] * k\n",
    "    margs = []\n",
    "    \n",
    "    for i, _ in enumerate(d[1:]):\n",
    "        mask = [True] * k\n",
    "        mask[0], mask[i+1] = False, False\n",
    "        margs.append((rho_AB, mask))\n",
    "    \n",
    "    (status, _) = mg.construct_global_state(k,d,margs)\n",
    "    \n",
    "    return True if status == OPTIMAL else False       "
   ]
  },
  {
   "cell_type": "code",
   "execution_count": 8,
   "metadata": {
    "collapsed": false
   },
   "outputs": [],
   "source": [
    "def share_maxk(rho_AB, tr = 6):\n",
    "    \"\"\" returns kmax for a given density matrix. \n",
    "        kmax is the number of parties that can share a werner state with Alice. \n",
    "        tr is an upper bound on kmax.\n",
    "        If tr is too high, the computation might become very time-consuming because of large matrices\n",
    "        \"\"\"\n",
    "    for k in range(2,tr+1):\n",
    "        if not share_k(rho_AB,k):\n",
    "            return k-2\n",
    "    \n",
    "    return k-1  "
   ]
  },
  {
   "cell_type": "markdown",
   "metadata": {},
   "source": [
    "As $\\rho(0)_{AB}$ describes a completely uncorrelated state, sharing this state with an unbounded amount of parties is possible. We do not want to run into infinity and we have to consider that operations on large matrices are time-consuming. Consequently, we set an upper bound on k_max:"
   ]
  },
  {
   "cell_type": "code",
   "execution_count": 11,
   "metadata": {
    "collapsed": true
   },
   "outputs": [],
   "source": [
    "kbound = 5"
   ]
  },
  {
   "cell_type": "markdown",
   "metadata": {},
   "source": [
    "We do a linear sweep in $[0.5\n",
    ",1]$ to get a first idea on the switching points for $k_{max}$"
   ]
  },
  {
   "cell_type": "code",
   "execution_count": 13,
   "metadata": {
    "collapsed": false
   },
   "outputs": [
    {
     "name": "stdout",
     "output_type": "stream",
     "text": [
      "w = 1.00, kmax = 1\n",
      "w = 0.95, kmax = 1\n",
      "w = 0.90, kmax = 1\n",
      "w = 0.85, kmax = 1\n",
      "w = 0.80, kmax = 1\n",
      "w = 0.75, kmax = 1\n",
      "w = 0.70, kmax = 1\n",
      "w = 0.65, kmax = 2\n",
      "w = 0.60, kmax = 2\n",
      "w = 0.55, kmax = 3\n",
      "w = 0.50, kmax = 4\n"
     ]
    }
   ],
   "source": [
    "#WARNING: Running this loop might take some time.\n",
    "kmax = []\n",
    "for w in np.arange(1,0.49,-0.05):\n",
    "    kmax.append(share_maxk(mg.werner(w), tr=kbound))\n",
    "    print(\"w = %0.2f, kmax = %i\" % (w,kmax[-1]))\n",
    "    # we break the loop once we reached the upper bound to save time\n",
    "    if (kmax[-1] == kbound):\n",
    "        break"
   ]
  },
  {
   "cell_type": "markdown",
   "metadata": {},
   "source": [
    "We know now more or less at which intervals $k_{max}$ increases. We define a binary search that will help us nail down the specific values of $w$ up to a certain precision in each of these intervals:"
   ]
  },
  {
   "cell_type": "code",
   "execution_count": 17,
   "metadata": {
    "collapsed": true
   },
   "outputs": [],
   "source": [
    "def bin_search_k(l, r, lk, prec = 10e-4):\n",
    "    \"\"\" performs a binary search to find the point in which k_max increases \"\"\"\n",
    "    m = (r + l) / 2.0\n",
    "    if np.fabs(r - l) < prec:\n",
    "        return m\n",
    "    else:\n",
    "        x = share_maxk(mg.werner(m), tr=kbound)\n",
    "        print(\"w = %0.7f, kmax = %i\" % (m,x))\n",
    "        return bin_search_k(l,m,lk,prec) if x == lk else bin_search_k(m,r,lk,prec)"
   ]
  },
  {
   "cell_type": "markdown",
   "metadata": {},
   "source": [
    "We know look at the interval $[0.65, 0.70]$ for the first switching point."
   ]
  },
  {
   "cell_type": "code",
   "execution_count": 18,
   "metadata": {
    "collapsed": false
   },
   "outputs": [
    {
     "name": "stdout",
     "output_type": "stream",
     "text": [
      "w = 0.6750000, kmax = 1\n",
      "w = 0.6625000, kmax = 2\n",
      "w = 0.6687500, kmax = 1\n",
      "w = 0.6656250, kmax = 2\n",
      "w = 0.6671875, kmax = 1\n",
      "w = 0.6664063, kmax = 2\n",
      "w = 0.6667969, kmax = 1\n",
      "w = 0.6666016, kmax = 2\n",
      "w = 0.6666992, kmax = 1\n",
      "w = 0.6666504, kmax = 2\n",
      "w = 0.6666748, kmax = 1\n",
      "w = 0.6666626, kmax = 2\n",
      "w = 0.6666687, kmax = 1\n",
      "w = 0.6666656, kmax = 2\n",
      "w = 0.6666672, kmax = 1\n",
      "w = 0.6666664, kmax = 2\n",
      "w = 0.6666668, kmax = 1\n",
      "w = 0.6666666, kmax = 2\n",
      "w = 0.6666667, kmax = 2\n"
     ]
    },
    {
     "data": {
      "text/plain": [
       "0.6666667461395264"
      ]
     },
     "execution_count": 18,
     "metadata": {},
     "output_type": "execute_result"
    }
   ],
   "source": [
    "bin_search_k(0.65,0.70,1, prec = 10e-8)"
   ]
  },
  {
   "cell_type": "markdown",
   "metadata": {},
   "source": [
    "The point where $k_{max}$ goes from $1$ to $2$ seems to be roughly at $w_{12} = \\frac23$."
   ]
  },
  {
   "cell_type": "code",
   "execution_count": 19,
   "metadata": {
    "collapsed": false
   },
   "outputs": [
    {
     "name": "stdout",
     "output_type": "stream",
     "text": [
      "w = 0.5750000, kmax = 2\n",
      "w = 0.5625000, kmax = 2\n",
      "w = 0.5562500, kmax = 2\n",
      "w = 0.5531250, kmax = 3\n",
      "w = 0.5546875, kmax = 3\n",
      "w = 0.5554687, kmax = 3\n",
      "w = 0.5558594, kmax = 2\n",
      "w = 0.5556641, kmax = 2\n",
      "w = 0.5555664, kmax = 2\n"
     ]
    },
    {
     "data": {
      "text/plain": [
       "0.5555175781249999"
      ]
     },
     "execution_count": 19,
     "metadata": {},
     "output_type": "execute_result"
    }
   ],
   "source": [
    "bin_search_k(0.55,0.60,2, prec = 10e-5)"
   ]
  },
  {
   "cell_type": "markdown",
   "metadata": {},
   "source": [
    "The point where $k_{max}$ goes from $2 $to $3$ seems to be roughly at $w_{23} = \\frac59$."
   ]
  },
  {
   "cell_type": "code",
   "execution_count": 21,
   "metadata": {
    "collapsed": false
   },
   "outputs": [
    {
     "name": "stdout",
     "output_type": "stream",
     "text": [
      "w = 0.5250000, kmax = 3\n",
      "w = 0.5125000, kmax = 3\n",
      "w = 0.5062500, kmax = 3\n",
      "w = 0.5031250, kmax = 3\n",
      "w = 0.5015625, kmax = 3\n",
      "w = 0.5007812, kmax = 3\n",
      "w = 0.5003906, kmax = 3\n",
      "w = 0.5001953, kmax = 3\n",
      "w = 0.5000977, kmax = 3\n"
     ]
    },
    {
     "data": {
      "text/plain": [
       "0.500048828125"
      ]
     },
     "execution_count": 21,
     "metadata": {},
     "output_type": "execute_result"
    }
   ],
   "source": [
    "bin_search_k(0.50,0.55,3, prec = 10e-5)"
   ]
  },
  {
   "cell_type": "code",
   "execution_count": 24,
   "metadata": {
    "collapsed": false
   },
   "outputs": [
    {
     "data": {
      "text/plain": [
       "4"
      ]
     },
     "execution_count": 24,
     "metadata": {},
     "output_type": "execute_result"
    }
   ],
   "source": [
    "share_maxk(mg.werner(0.4999999), tr=8)"
   ]
  },
  {
   "cell_type": "markdown",
   "metadata": {},
   "source": [
    "The point where $k_{max}$ goes from $3 $to $4$ seems to be roughly at $w_{34} = \\frac12$."
   ]
  },
  {
   "cell_type": "markdown",
   "metadata": {},
   "source": [
    "We summarize our findings so far in a plot. It is possible to use the monogamy module to find also the next values $w_{45}$, $w_{56}$ and so on, but the computional time is increasing sharply. Since time is precious, we stop here. Note also, that the function of $k_{max}$ becomes infinite for $w \\leq \\frac13$, which we mark as an asymptote."
   ]
  },
  {
   "cell_type": "code",
   "execution_count": 45,
   "metadata": {
    "collapsed": false
   },
   "outputs": [
    {
     "data": {
      "text/plain": [
       "<matplotlib.text.Text at 0x7f3768f840b8>"
      ]
     },
     "execution_count": 45,
     "metadata": {},
     "output_type": "execute_result"
    },
    {
     "data": {
      "image/png": "[encoded data removed]",
      "text/plain": [
       "<matplotlib.figure.Figure at 0x7f3768fb0048>"
      ]
     },
     "metadata": {},
     "output_type": "display_data"
    }
   ],
   "source": [
    "%matplotlib inline\n",
    "import matplotlib.pyplot as plt\n",
    "plt.plot([1.0/3.0 , 1.0/3.0], [0, 5], 'k--')\n",
    "plt.plot([0.499, 0.5], [4,4], 'k.', markersize=2)\n",
    "plt.plot(np.linspace(0.5, 5.0/9.0, 100), [3] * 100, 'k-')\n",
    "plt.plot(np.linspace(5.0/9.0, 2.0/3.0, 100), [2] * 100, 'k-')\n",
    "plt.plot(np.linspace(2.0/3.0, 1, 100), [1] * 100, 'k-')\n",
    "plt.xlim( (0, 1.0) )\n",
    "plt.xlabel('$w$')\n",
    "plt.ylabel('$k_{max}$')"
   ]
  }
 ],
 "metadata": {
  "kernelspec": {
   "display_name": "Python 3",
   "language": "python",
   "name": "python3"
  },
  "language_info": {
   "codemirror_mode": {
    "name": "ipython",
    "version": 3
   },
   "file_extension": ".py",
   "mimetype": "text/x-python",
   "name": "python",
   "nbconvert_exporter": "python",
   "pygments_lexer": "ipython3",
   "version": "3.4.3"
  }
 },
 "nbformat": 4,
 "nbformat_minor": 0
}
