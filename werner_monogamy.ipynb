{
 "cells": [
  {
   "cell_type": "markdown",
   "metadata": {},
   "source": [
    "# Werner State monogamy #\n",
    "$$\n",
    "\\newcommand{\\ket}[1]{|#1\\rangle}\n",
    "\\newcommand{\\bra}[1]{\\langle #1|}\n",
    "$$"
   ]
  },
  {
   "cell_type": "markdown",
   "metadata": {},
   "source": [
    "The Werner states are a family of bipartite states $\\rho(w)_{AB}$ which interpolate smoothly between the maximally entangled and the uncorrelated state. They are defined as:\n",
    "$$\n",
    "\\rho(w)_{AB} = w\\ket{\\Phi_+}\\bra{\\Phi_+}_{AB} + (1-w)\\frac{I_A}{2} \\otimes \\frac{I_B}{2}\n",
    "$$\n",
    "with\n",
    "$$\n",
    "\\Phi_+ = \\frac{(\\ket{00}+\\ket{11})}{\\sqrt{2}}\n",
    "$$\n",
    "Being the EPR-pair.\n",
    "\n",
    "We know that for $w = 1$ we have a maximally entangled state, which is monogamous and can thus only be shared by two parties. However, if we lower $w$, entanglements with third parties becomes possible. The research question now is the following:\n",
    "\n",
    "Given a bipartite state $\\sigma_{AB}$, what is the largest integer $k$ such that there exists a state $\\sigma_{AB_1B_2\\ldots B_k}$ with the correct marginals $\\sigma_{AB_j} = \\sigma_{AB}$ for every $j = 1, 2, \\ldots, k$? This value shall be denoted with $k_{max}$. You can think of $k_{max}$ as the maximal number of partners that Alice can share a werner-state with a given parameter of $w$.\n",
    "\n",
    "The following script will determine numerically the values of $w$ for which $k_{max}$ increases."
   ]
  },
  {
   "cell_type": "code",
   "execution_count": 1,
   "metadata": {
    "collapsed": true
   },
   "outputs": [],
   "source": [
    "from cvxpy import *\n",
    "import numpy as np\n",
    "import monogamy as mg"
   ]
  },
  {
   "cell_type": "markdown",
   "metadata": {},
   "source": [
    "We define two useful helperfunctions."
   ]
  },
  {
   "cell_type": "code",
   "execution_count": 2,
   "metadata": {
    "collapsed": true
   },
   "outputs": [],
   "source": [
    "def share_k(rho_AB, k):\n",
    "    \"\"\" returns True if the state rho_AB can be shared by k parties\n",
    "    \"\"\"\n",
    "    d = [2] * k\n",
    "    margs = []\n",
    "    \n",
    "    for i, _ in enumerate(d[1:]):\n",
    "        mask = [True] * k\n",
    "        mask[0], mask[i+1] = False, False\n",
    "        margs.append((rho_AB, mask))\n",
    "    \n",
    "    (state, _) = mg.construct_global_state(k,d,margs)\n",
    "    \n",
    "    return True if state == OPTIMAL else False       "
   ]
  },
  {
   "cell_type": "code",
   "execution_count": 3,
   "metadata": {
    "collapsed": false
   },
   "outputs": [],
   "source": [
    "def share_maxk(rho_AB, tr = 8):\n",
    "    \"\"\" returns kmax for a given density matrix. Note that kmax equals the\n",
    "        number of parties who can share the global state. \n",
    "        tr is an upper bound on kmax.\n",
    "        If tr is too high, the computation might become very time-consuming because\n",
    "        of the big matrices involved.\n",
    "        \"\"\"\n",
    "    for k in range(2,tr):\n",
    "        if not share_k(rho_AB,k):\n",
    "            return k-1\n",
    "    \n",
    "    return tr-1  "
   ]
  },
  {
   "cell_type": "markdown",
   "metadata": {},
   "source": [
    "For $\\rho(0)_{AB}$ are uncorrelated, so sharing this state with an unbounded amount of parties is possible. We do not want to run into infinity and we have to consider that operations on large matrices are time-consuming. Consequently, we set an upper bound on k_max:"
   ]
  },
  {
   "cell_type": "code",
   "execution_count": 4,
   "metadata": {
    "collapsed": true
   },
   "outputs": [],
   "source": [
    "kbound = 7"
   ]
  },
  {
   "cell_type": "markdown",
   "metadata": {},
   "source": [
    "We do a rough sweep in $[0,1]$ to get a first idea on $k_{max}$"
   ]
  },
  {
   "cell_type": "code",
   "execution_count": 5,
   "metadata": {
    "collapsed": false
   },
   "outputs": [
    {
     "name": "stdout",
     "output_type": "stream",
     "text": [
      "w = 1.00, kmax = 1\n",
      "w = 0.95, kmax = 1\n",
      "w = 0.90, kmax = 1\n",
      "w = 0.85, kmax = 1\n",
      "w = 0.80, kmax = 1\n",
      "w = 0.75, kmax = 1\n",
      "w = 0.70, kmax = 1\n",
      "w = 0.65, kmax = 2\n",
      "w = 0.60, kmax = 2\n",
      "w = 0.55, kmax = 3\n",
      "w = 0.50, kmax = 4\n",
      "w = 0.45, kmax = 5\n",
      "w = 0.40, kmax = 5\n"
     ]
    },
    {
     "ename": "KeyboardInterrupt",
     "evalue": "",
     "output_type": "error",
     "traceback": [
      "\u001b[1;31m---------------------------------------------------------------------------\u001b[0m",
      "\u001b[1;31mKeyboardInterrupt\u001b[0m                         Traceback (most recent call last)",
      "\u001b[1;32m<ipython-input-5-56abe4637f93>\u001b[0m in \u001b[0;36m<module>\u001b[1;34m()\u001b[0m\n\u001b[0;32m      4\u001b[0m     \u001b[1;31m# as share_maxk returns the number of parties involved, we have to substract\u001b[0m\u001b[1;33m\u001b[0m\u001b[1;33m\u001b[0m\u001b[0m\n\u001b[0;32m      5\u001b[0m     \u001b[1;31m# one for Alice to match the above definition of k_max\u001b[0m\u001b[1;33m\u001b[0m\u001b[1;33m\u001b[0m\u001b[0m\n\u001b[1;32m----> 6\u001b[1;33m     \u001b[0mkmax\u001b[0m\u001b[1;33m.\u001b[0m\u001b[0mappend\u001b[0m\u001b[1;33m(\u001b[0m\u001b[0mshare_maxk\u001b[0m\u001b[1;33m(\u001b[0m\u001b[0mmg\u001b[0m\u001b[1;33m.\u001b[0m\u001b[0mwerner\u001b[0m\u001b[1;33m(\u001b[0m\u001b[0mw\u001b[0m\u001b[1;33m)\u001b[0m\u001b[1;33m,\u001b[0m \u001b[0mtr\u001b[0m\u001b[1;33m=\u001b[0m\u001b[0mkbound\u001b[0m\u001b[1;33m)\u001b[0m\u001b[1;33m-\u001b[0m\u001b[1;36m1\u001b[0m\u001b[1;33m)\u001b[0m\u001b[1;33m\u001b[0m\u001b[0m\n\u001b[0m\u001b[0;32m      7\u001b[0m     \u001b[0mprint\u001b[0m\u001b[1;33m(\u001b[0m\u001b[1;34m\"w = %0.2f, kmax = %i\"\u001b[0m \u001b[1;33m%\u001b[0m \u001b[1;33m(\u001b[0m\u001b[0mw\u001b[0m\u001b[1;33m,\u001b[0m\u001b[0mkmax\u001b[0m\u001b[1;33m[\u001b[0m\u001b[1;33m-\u001b[0m\u001b[1;36m1\u001b[0m\u001b[1;33m]\u001b[0m\u001b[1;33m)\u001b[0m\u001b[1;33m)\u001b[0m\u001b[1;33m\u001b[0m\u001b[0m\n\u001b[0;32m      8\u001b[0m     \u001b[1;31m# we break the loop once we reached the upper bound to save time\u001b[0m\u001b[1;33m\u001b[0m\u001b[1;33m\u001b[0m\u001b[0m\n",
      "\u001b[1;32m<ipython-input-3-c540c40649e3>\u001b[0m in \u001b[0;36mshare_maxk\u001b[1;34m(rho_AB, tr)\u001b[0m\n\u001b[0;32m      7\u001b[0m         \"\"\"\n\u001b[0;32m      8\u001b[0m     \u001b[1;32mfor\u001b[0m \u001b[0mk\u001b[0m \u001b[1;32min\u001b[0m \u001b[0mrange\u001b[0m\u001b[1;33m(\u001b[0m\u001b[1;36m2\u001b[0m\u001b[1;33m,\u001b[0m\u001b[0mtr\u001b[0m\u001b[1;33m)\u001b[0m\u001b[1;33m:\u001b[0m\u001b[1;33m\u001b[0m\u001b[0m\n\u001b[1;32m----> 9\u001b[1;33m         \u001b[1;32mif\u001b[0m \u001b[1;32mnot\u001b[0m \u001b[0mshare_k\u001b[0m\u001b[1;33m(\u001b[0m\u001b[0mrho_AB\u001b[0m\u001b[1;33m,\u001b[0m\u001b[0mk\u001b[0m\u001b[1;33m)\u001b[0m\u001b[1;33m:\u001b[0m\u001b[1;33m\u001b[0m\u001b[0m\n\u001b[0m\u001b[0;32m     10\u001b[0m             \u001b[1;32mreturn\u001b[0m \u001b[0mk\u001b[0m\u001b[1;33m-\u001b[0m\u001b[1;36m1\u001b[0m\u001b[1;33m\u001b[0m\u001b[0m\n\u001b[0;32m     11\u001b[0m \u001b[1;33m\u001b[0m\u001b[0m\n",
      "\u001b[1;32m<ipython-input-2-2c690f6c0c9e>\u001b[0m in \u001b[0;36mshare_k\u001b[1;34m(rho_AB, k)\u001b[0m\n\u001b[0;32m     10\u001b[0m         \u001b[0mmargs\u001b[0m\u001b[1;33m.\u001b[0m\u001b[0mappend\u001b[0m\u001b[1;33m(\u001b[0m\u001b[1;33m(\u001b[0m\u001b[0mrho_AB\u001b[0m\u001b[1;33m,\u001b[0m \u001b[0mmask\u001b[0m\u001b[1;33m)\u001b[0m\u001b[1;33m)\u001b[0m\u001b[1;33m\u001b[0m\u001b[0m\n\u001b[0;32m     11\u001b[0m \u001b[1;33m\u001b[0m\u001b[0m\n\u001b[1;32m---> 12\u001b[1;33m     \u001b[1;33m(\u001b[0m\u001b[0mstate\u001b[0m\u001b[1;33m,\u001b[0m \u001b[0m_\u001b[0m\u001b[1;33m)\u001b[0m \u001b[1;33m=\u001b[0m \u001b[0mmg\u001b[0m\u001b[1;33m.\u001b[0m\u001b[0mconstruct_global_state\u001b[0m\u001b[1;33m(\u001b[0m\u001b[0mk\u001b[0m\u001b[1;33m,\u001b[0m\u001b[0md\u001b[0m\u001b[1;33m,\u001b[0m\u001b[0mmargs\u001b[0m\u001b[1;33m)\u001b[0m\u001b[1;33m\u001b[0m\u001b[0m\n\u001b[0m\u001b[0;32m     13\u001b[0m \u001b[1;33m\u001b[0m\u001b[0m\n\u001b[0;32m     14\u001b[0m     \u001b[1;32mreturn\u001b[0m \u001b[1;32mTrue\u001b[0m \u001b[1;32mif\u001b[0m \u001b[0mstate\u001b[0m \u001b[1;33m==\u001b[0m \u001b[0mOPTIMAL\u001b[0m \u001b[1;32melse\u001b[0m \u001b[1;32mFalse\u001b[0m\u001b[1;33m\u001b[0m\u001b[0m\n",
      "\u001b[1;32m/home/crn/quantum/monogamy/monogamy.py\u001b[0m in \u001b[0;36mconstruct_global_state\u001b[1;34m(n, d, marginals, ftol, use_scs)\u001b[0m\n\u001b[0;32m    220\u001b[0m         \u001b[0mprob\u001b[0m\u001b[1;33m.\u001b[0m\u001b[0msolve\u001b[0m\u001b[1;33m(\u001b[0m\u001b[0msolver\u001b[0m\u001b[1;33m=\u001b[0m\u001b[0mcvx\u001b[0m\u001b[1;33m.\u001b[0m\u001b[0mSCS\u001b[0m\u001b[1;33m)\u001b[0m\u001b[1;33m\u001b[0m\u001b[0m\n\u001b[0;32m    221\u001b[0m     \u001b[1;32melse\u001b[0m\u001b[1;33m:\u001b[0m\u001b[1;33m\u001b[0m\u001b[0m\n\u001b[1;32m--> 222\u001b[1;33m         \u001b[0mprob\u001b[0m\u001b[1;33m.\u001b[0m\u001b[0msolve\u001b[0m\u001b[1;33m(\u001b[0m\u001b[0msolver\u001b[0m\u001b[1;33m=\u001b[0m\u001b[0mcvx\u001b[0m\u001b[1;33m.\u001b[0m\u001b[0mCVXOPT\u001b[0m\u001b[1;33m)\u001b[0m\u001b[1;33m\u001b[0m\u001b[0m\n\u001b[0m\u001b[0;32m    223\u001b[0m \u001b[1;33m\u001b[0m\u001b[0m\n\u001b[0;32m    224\u001b[0m     \u001b[1;31m# extract solution (if found) and return\u001b[0m\u001b[1;33m\u001b[0m\u001b[1;33m\u001b[0m\u001b[0m\n",
      "\u001b[1;32m/home/crn/miniconda3/lib/python3.4/site-packages/cvxpy/problems/problem.py\u001b[0m in \u001b[0;36msolve\u001b[1;34m(self, *args, **kwargs)\u001b[0m\n\u001b[0;32m    154\u001b[0m             \u001b[1;32mreturn\u001b[0m \u001b[0mfunc\u001b[0m\u001b[1;33m(\u001b[0m\u001b[0mself\u001b[0m\u001b[1;33m,\u001b[0m \u001b[1;33m*\u001b[0m\u001b[0margs\u001b[0m\u001b[1;33m,\u001b[0m \u001b[1;33m**\u001b[0m\u001b[0mkwargs\u001b[0m\u001b[1;33m)\u001b[0m\u001b[1;33m\u001b[0m\u001b[0m\n\u001b[0;32m    155\u001b[0m         \u001b[1;32melse\u001b[0m\u001b[1;33m:\u001b[0m\u001b[1;33m\u001b[0m\u001b[0m\n\u001b[1;32m--> 156\u001b[1;33m             \u001b[1;32mreturn\u001b[0m \u001b[0mself\u001b[0m\u001b[1;33m.\u001b[0m\u001b[0m_solve\u001b[0m\u001b[1;33m(\u001b[0m\u001b[1;33m*\u001b[0m\u001b[0margs\u001b[0m\u001b[1;33m,\u001b[0m \u001b[1;33m**\u001b[0m\u001b[0mkwargs\u001b[0m\u001b[1;33m)\u001b[0m\u001b[1;33m\u001b[0m\u001b[0m\n\u001b[0m\u001b[0;32m    157\u001b[0m \u001b[1;33m\u001b[0m\u001b[0m\n\u001b[0;32m    158\u001b[0m     \u001b[1;33m@\u001b[0m\u001b[0mclassmethod\u001b[0m\u001b[1;33m\u001b[0m\u001b[0m\n",
      "\u001b[1;32m/home/crn/miniconda3/lib/python3.4/site-packages/cvxpy/problems/problem.py\u001b[0m in \u001b[0;36m_solve\u001b[1;34m(self, solver, ignore_dcp, warm_start, verbose, **kwargs)\u001b[0m\n\u001b[0;32m    241\u001b[0m             results_dict = solver.solve(objective, constraints,\n\u001b[0;32m    242\u001b[0m                                         \u001b[0mself\u001b[0m\u001b[1;33m.\u001b[0m\u001b[0m_cached_data\u001b[0m\u001b[1;33m,\u001b[0m\u001b[1;33m\u001b[0m\u001b[0m\n\u001b[1;32m--> 243\u001b[1;33m                                         warm_start, verbose, kwargs)\n\u001b[0m\u001b[0;32m    244\u001b[0m         \u001b[1;31m# Presolve determined problem was unbounded or infeasible.\u001b[0m\u001b[1;33m\u001b[0m\u001b[1;33m\u001b[0m\u001b[0m\n\u001b[0;32m    245\u001b[0m         \u001b[1;32melse\u001b[0m\u001b[1;33m:\u001b[0m\u001b[1;33m\u001b[0m\u001b[0m\n",
      "\u001b[1;32m/home/crn/miniconda3/lib/python3.4/site-packages/cvxpy/problems/solvers/cvxopt_intf.py\u001b[0m in \u001b[0;36msolve\u001b[1;34m(self, objective, constraints, cached_data, warm_start, verbose, solver_opts)\u001b[0m\n\u001b[0;32m    148\u001b[0m                                                      \u001b[0mdata\u001b[0m\u001b[1;33m[\u001b[0m\u001b[0ms\u001b[0m\u001b[1;33m.\u001b[0m\u001b[0mA\u001b[0m\u001b[1;33m]\u001b[0m\u001b[1;33m,\u001b[0m\u001b[1;33m\u001b[0m\u001b[0m\n\u001b[0;32m    149\u001b[0m                                                      \u001b[0mdata\u001b[0m\u001b[1;33m[\u001b[0m\u001b[0ms\u001b[0m\u001b[1;33m.\u001b[0m\u001b[0mB\u001b[0m\u001b[1;33m]\u001b[0m\u001b[1;33m,\u001b[0m\u001b[1;33m\u001b[0m\u001b[0m\n\u001b[1;32m--> 150\u001b[1;33m                                                      kktsolver=kktsolver)\n\u001b[0m\u001b[0;32m    151\u001b[0m         \u001b[1;31m# Catch exceptions in CVXOPT and convert them to solver errors.\u001b[0m\u001b[1;33m\u001b[0m\u001b[1;33m\u001b[0m\u001b[0m\n\u001b[0;32m    152\u001b[0m         \u001b[1;32mexcept\u001b[0m \u001b[0mValueError\u001b[0m\u001b[1;33m:\u001b[0m\u001b[1;33m\u001b[0m\u001b[0m\n",
      "\u001b[1;32m/home/crn/miniconda3/lib/python3.4/site-packages/cvxopt/coneprog.py\u001b[0m in \u001b[0;36mconelp\u001b[1;34m(c, G, h, dims, A, b, primalstart, dualstart, kktsolver, xnewcopy, xdot, xaxpy, xscal, ynewcopy, ydot, yaxpy, yscal)\u001b[0m\n\u001b[0;32m   1066\u001b[0m \u001b[1;33m\u001b[0m\u001b[0m\n\u001b[0;32m   1067\u001b[0m         \u001b[1;32mtry\u001b[0m\u001b[1;33m:\u001b[0m\u001b[1;33m\u001b[0m\u001b[0m\n\u001b[1;32m-> 1068\u001b[1;33m             \u001b[0mf3\u001b[0m \u001b[1;33m=\u001b[0m \u001b[0mkktsolver\u001b[0m\u001b[1;33m(\u001b[0m\u001b[0mW\u001b[0m\u001b[1;33m)\u001b[0m\u001b[1;33m\u001b[0m\u001b[0m\n\u001b[0m\u001b[0;32m   1069\u001b[0m             \u001b[1;32mif\u001b[0m \u001b[0miters\u001b[0m \u001b[1;33m==\u001b[0m \u001b[1;36m0\u001b[0m\u001b[1;33m:\u001b[0m\u001b[1;33m\u001b[0m\u001b[0m\n\u001b[0;32m   1070\u001b[0m                 \u001b[0mx1\u001b[0m\u001b[1;33m,\u001b[0m \u001b[0my1\u001b[0m \u001b[1;33m=\u001b[0m \u001b[0mxnewcopy\u001b[0m\u001b[1;33m(\u001b[0m\u001b[0mc\u001b[0m\u001b[1;33m)\u001b[0m\u001b[1;33m,\u001b[0m \u001b[0mynewcopy\u001b[0m\u001b[1;33m(\u001b[0m\u001b[0mb\u001b[0m\u001b[1;33m)\u001b[0m\u001b[1;33m\u001b[0m\u001b[0m\n",
      "\u001b[1;32m/home/crn/miniconda3/lib/python3.4/site-packages/cvxpy/problems/kktsolver.py\u001b[0m in \u001b[0;36mkktsolver\u001b[1;34m(W)\u001b[0m\n\u001b[0;32m     33\u001b[0m         \u001b[0mfactor\u001b[0m \u001b[1;33m=\u001b[0m \u001b[0mkkt_ldl\u001b[0m\u001b[1;33m(\u001b[0m\u001b[0mG\u001b[0m\u001b[1;33m,\u001b[0m \u001b[0mdims\u001b[0m\u001b[1;33m,\u001b[0m \u001b[0mA\u001b[0m\u001b[1;33m)\u001b[0m\u001b[1;33m\u001b[0m\u001b[0m\n\u001b[0;32m     34\u001b[0m         \u001b[1;32mdef\u001b[0m \u001b[0mkktsolver\u001b[0m\u001b[1;33m(\u001b[0m\u001b[0mW\u001b[0m\u001b[1;33m)\u001b[0m\u001b[1;33m:\u001b[0m\u001b[1;33m\u001b[0m\u001b[0m\n\u001b[1;32m---> 35\u001b[1;33m             \u001b[1;32mreturn\u001b[0m \u001b[0mfactor\u001b[0m\u001b[1;33m(\u001b[0m\u001b[0mW\u001b[0m\u001b[1;33m)\u001b[0m\u001b[1;33m\u001b[0m\u001b[0m\n\u001b[0m\u001b[0;32m     36\u001b[0m     \u001b[1;32melse\u001b[0m\u001b[1;33m:\u001b[0m\u001b[1;33m\u001b[0m\u001b[0m\n\u001b[0;32m     37\u001b[0m         \u001b[0mmnl\u001b[0m\u001b[1;33m,\u001b[0m \u001b[0mx0\u001b[0m \u001b[1;33m=\u001b[0m \u001b[0mF\u001b[0m\u001b[1;33m(\u001b[0m\u001b[1;33m)\u001b[0m\u001b[1;33m\u001b[0m\u001b[0m\n",
      "\u001b[1;32m/home/crn/miniconda3/lib/python3.4/site-packages/cvxpy/problems/kktsolver.py\u001b[0m in \u001b[0;36mfactor\u001b[1;34m(W, H, Df)\u001b[0m\n\u001b[0;32m     85\u001b[0m         \u001b[0mK\u001b[0m\u001b[1;33m[\u001b[0m\u001b[1;36m0\u001b[0m \u001b[1;33m:\u001b[0m \u001b[1;33m(\u001b[0m\u001b[0mldK\u001b[0m\u001b[1;33m+\u001b[0m\u001b[1;36m1\u001b[0m\u001b[1;33m)\u001b[0m\u001b[1;33m*\u001b[0m\u001b[0mn\u001b[0m \u001b[1;33m:\u001b[0m \u001b[0mldK\u001b[0m\u001b[1;33m+\u001b[0m\u001b[1;36m1\u001b[0m\u001b[1;33m]\u001b[0m  \u001b[1;33m+=\u001b[0m \u001b[0mREG_EPS\u001b[0m\u001b[1;33m\u001b[0m\u001b[0m\n\u001b[0;32m     86\u001b[0m         \u001b[0mK\u001b[0m\u001b[1;33m[\u001b[0m\u001b[1;33m(\u001b[0m\u001b[0mldK\u001b[0m\u001b[1;33m+\u001b[0m\u001b[1;36m1\u001b[0m\u001b[1;33m)\u001b[0m\u001b[1;33m*\u001b[0m\u001b[0mn\u001b[0m \u001b[1;33m:\u001b[0m\u001b[1;33m:\u001b[0m \u001b[0mldK\u001b[0m\u001b[1;33m+\u001b[0m\u001b[1;36m1\u001b[0m\u001b[1;33m]\u001b[0m  \u001b[1;33m+=\u001b[0m \u001b[1;33m-\u001b[0m\u001b[0mREG_EPS\u001b[0m\u001b[1;33m\u001b[0m\u001b[0m\n\u001b[1;32m---> 87\u001b[1;33m         \u001b[0mlapack\u001b[0m\u001b[1;33m.\u001b[0m\u001b[0msytrf\u001b[0m\u001b[1;33m(\u001b[0m\u001b[0mK\u001b[0m\u001b[1;33m,\u001b[0m \u001b[0mipiv\u001b[0m\u001b[1;33m)\u001b[0m\u001b[1;33m\u001b[0m\u001b[0m\n\u001b[0m\u001b[0;32m     88\u001b[0m \u001b[1;33m\u001b[0m\u001b[0m\n\u001b[0;32m     89\u001b[0m         \u001b[1;32mdef\u001b[0m \u001b[0msolve\u001b[0m\u001b[1;33m(\u001b[0m\u001b[0mx\u001b[0m\u001b[1;33m,\u001b[0m \u001b[0my\u001b[0m\u001b[1;33m,\u001b[0m \u001b[0mz\u001b[0m\u001b[1;33m)\u001b[0m\u001b[1;33m:\u001b[0m\u001b[1;33m\u001b[0m\u001b[0m\n",
      "\u001b[1;31mKeyboardInterrupt\u001b[0m: "
     ]
    }
   ],
   "source": [
    "#WARNING: Running this loop might take some time.\n",
    "kmax = []\n",
    "for w in np.arange(1,0.0,-0.05):\n",
    "    # as share_maxk returns the number of parties involved, we have to substract \n",
    "    # one for Alice to match the above definition of k_max\n",
    "    kmax.append(share_maxk(mg.werner(w), tr=kbound)-1)\n",
    "    print(\"w = %0.2f, kmax = %i\" % (w,kmax[-1]))\n",
    "    # we break the loop once we reached the upper bound to save time\n",
    "    if (kmax[-1] == kbound-1):\n",
    "        break"
   ]
  },
  {
   "cell_type": "markdown",
   "metadata": {},
   "source": [
    "Now we have a rough idea when $k_{max}$ increases. We use a binary search to nail down the specific values of $w$ up to a certain precision:"
   ]
  },
  {
   "cell_type": "code",
   "execution_count": 11,
   "metadata": {
    "collapsed": true
   },
   "outputs": [],
   "source": [
    "def bin_search_k(l, r, lk, prec = 10e-4):\n",
    "    \"\"\" performs a binary search to find the point in which k_max increases \"\"\"\n",
    "    m = (r + l) / 2.0\n",
    "    if np.fabs(r - l) < prec:\n",
    "        return m\n",
    "    else:\n",
    "        x = share_maxk(mg.werner(m), tr=kbound) - 1\n",
    "        print(\"w = %0.7f, kmax = %i\" % (m,x))\n",
    "        return bin_search_k(l,m,lk,prec) if x == lk else bin_search_k(m,r,lk,prec)"
   ]
  },
  {
   "cell_type": "code",
   "execution_count": 12,
   "metadata": {
    "collapsed": false
   },
   "outputs": [
    {
     "name": "stdout",
     "output_type": "stream",
     "text": [
      "w = 0.6750000, kmax = 1\n",
      "w = 0.6625000, kmax = 2\n",
      "w = 0.6687500, kmax = 1\n",
      "w = 0.6656250, kmax = 2\n",
      "w = 0.6671875, kmax = 1\n",
      "w = 0.6664063, kmax = 2\n",
      "w = 0.6667969, kmax = 1\n",
      "w = 0.6666016, kmax = 2\n",
      "w = 0.6666992, kmax = 1\n",
      "w = 0.6666504, kmax = 2\n",
      "w = 0.6666748, kmax = 1\n",
      "w = 0.6666626, kmax = 2\n",
      "w = 0.6666687, kmax = 1\n",
      "w = 0.6666656, kmax = 2\n",
      "w = 0.6666672, kmax = 1\n",
      "w = 0.6666664, kmax = 2\n",
      "w = 0.6666668, kmax = 1\n",
      "w = 0.6666666, kmax = 2\n",
      "w = 0.6666667, kmax = 2\n"
     ]
    },
    {
     "data": {
      "text/plain": [
       "0.6666667461395264"
      ]
     },
     "execution_count": 12,
     "metadata": {},
     "output_type": "execute_result"
    }
   ],
   "source": [
    "bin_search_k(0.65,0.70,1, prec = 10e-8)"
   ]
  },
  {
   "cell_type": "markdown",
   "metadata": {},
   "source": [
    "The point where $k_{max}$ goes from $1$ to $2$ seems to be roughly at $w_{12} = \\frac23$."
   ]
  },
  {
   "cell_type": "code",
   "execution_count": 14,
   "metadata": {
    "collapsed": false
   },
   "outputs": [
    {
     "name": "stdout",
     "output_type": "stream",
     "text": [
      "w = 0.5750000, kmax = 2\n",
      "w = 0.5625000, kmax = 2\n",
      "w = 0.5562500, kmax = 2\n",
      "w = 0.5531250, kmax = 3\n",
      "w = 0.5546875, kmax = 3\n",
      "w = 0.5554687, kmax = 3\n",
      "w = 0.5558594, kmax = 2\n",
      "w = 0.5556641, kmax = 2\n",
      "w = 0.5555664, kmax = 2\n"
     ]
    },
    {
     "data": {
      "text/plain": [
       "0.5555175781249999"
      ]
     },
     "execution_count": 14,
     "metadata": {},
     "output_type": "execute_result"
    }
   ],
   "source": [
    "bin_search_k(0.55,0.60,2, prec = 10e-5)"
   ]
  },
  {
   "cell_type": "markdown",
   "metadata": {},
   "source": [
    "The point where $k_{max}$ goes from $2 $to $3$ seems to be roughly at $w_{23} = \\frac59$."
   ]
  },
  {
   "cell_type": "code",
   "execution_count": null,
   "metadata": {
    "collapsed": true
   },
   "outputs": [],
   "source": []
  }
 ],
 "metadata": {
  "kernelspec": {
   "display_name": "Python 3",
   "language": "python",
   "name": "python3"
  },
  "language_info": {
   "codemirror_mode": {
    "name": "ipython",
    "version": 3
   },
   "file_extension": ".py",
   "mimetype": "text/x-python",
   "name": "python",
   "nbconvert_exporter": "python",
   "pygments_lexer": "ipython3",
   "version": "3.4.3"
  }
 },
 "nbformat": 4,
 "nbformat_minor": 0
}
