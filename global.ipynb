{
 "cells": [
  {
   "cell_type": "markdown",
   "metadata": {},
   "source": [
    "# Construction of global states #"
   ]
  },
  {
   "cell_type": "markdown",
   "metadata": {},
   "source": [
    "This Notebook shows how to Use the monogamy-module to solve the task outlined by the project description:\n",
    "\n",
    "* As input data the program should take the number of registers of the gobal state denoted by $n$, a vector denoting their respective dimensions $\\mathbf{d} = (d_1,d_2, \\ldots, d_n)$ and an arbitrary number of marginal states on an arbitrary subset of $[n]$ (let us denote the marginal on $S \\subset [n]$ by $\\rho_S$.\n",
    "* The program should determine whether the marginal states are compatible, and if so it should produce a valid global state $\\rho_{12\\ldots n}$.\n",
    "* The program should be made publicly available on a website accompanied by a manual describing how to install it and use it. In particular, the input interface should be well-explained and user-friendly so that other researchers find it easy to use.\n",
    "\n",
    "The function that fulfills the above requierements is called \"construct_global_state\" and this is how you use it:"
   ]
  },
  {
   "cell_type": "code",
   "execution_count": 1,
   "metadata": {
    "collapsed": true
   },
   "outputs": [],
   "source": [
    "import numpy as np\n",
    "from monogamy import construct_global_state"
   ]
  },
  {
   "cell_type": "markdown",
   "metadata": {},
   "source": [
    "We first show a simple three-qubit example. The quantum registers are $A, B$ and $C$, each of them is of dimension 2."
   ]
  },
  {
   "cell_type": "code",
   "execution_count": 2,
   "metadata": {
    "collapsed": true
   },
   "outputs": [],
   "source": [
    "n = 3\n",
    "d = [2,2,2]"
   ]
  },
  {
   "cell_type": "markdown",
   "metadata": {},
   "source": [
    "We define the density matrices of the three marginals $\\rho_{AB}, \\rho_{AC}$ and $\\rho_{BC}$."
   ]
  },
  {
   "cell_type": "code",
   "execution_count": 3,
   "metadata": {
    "collapsed": false
   },
   "outputs": [
    {
     "name": "stdout",
     "output_type": "stream",
     "text": [
      "[[ 0.325  0.     0.     0.15 ]\n",
      " [ 0.     0.175  0.     0.   ]\n",
      " [ 0.     0.     0.175  0.   ]\n",
      " [ 0.15   0.     0.     0.325]]\n",
      "[[ 0.325  0.     0.     0.15 ]\n",
      " [ 0.     0.175  0.     0.   ]\n",
      " [ 0.     0.     0.175  0.   ]\n",
      " [ 0.15   0.     0.     0.325]]\n",
      "[[ 0.3  0.   0.   0.1]\n",
      " [ 0.   0.2  0.   0. ]\n",
      " [ 0.   0.   0.2  0. ]\n",
      " [ 0.1  0.   0.   0.3]]\n"
     ]
    }
   ],
   "source": [
    "rho_AB = np.array([[ 0.325, 0, 0, 0.15 ],\n",
    "                   [ 0, 0.175,  0,  0  ],\n",
    "                   [ 0,  0,  0.175, 0  ],\n",
    "                   [ 0.15,  0, 0, 0.325]])\n",
    "rho_AC = np.array([[ 0.325, 0, 0, 0.15 ],\n",
    "                   [ 0, 0.175,  0,  0  ],\n",
    "                   [ 0,  0,  0.175, 0  ],\n",
    "                   [ 0.15,  0, 0, 0.325]])\n",
    "rho_BC = np.array([[0.3, 0, 0, 0.1],\n",
    "                   [0, 0.2, 0, 0  ],\n",
    "                   [0,   0, 0.2, 0],\n",
    "                   [0.1, 0, 0, 0.3]])\n",
    "print(rho_AB)\n",
    "print(rho_AC)\n",
    "print(rho_BC)"
   ]
  },
  {
   "cell_type": "markdown",
   "metadata": {},
   "source": [
    "These matrices describe the marginals of the system. In order for monogamy to work, we have to give the module information about which of the systems are active and which are traced out. This happens with a bitmask, or list of booleans: each entry marked with \"True\" has been traced out. For example, in $\\rho_{AB}$, the subsystem $C$ has been traced out. As $C$ is the third subsystem, we define the marginal als [False, False, True]."
   ]
  },
  {
   "cell_type": "code",
   "execution_count": 4,
   "metadata": {
    "collapsed": true
   },
   "outputs": [],
   "source": [
    "marg1 = (rho_AB, [False, False, True])\n",
    "marg2 = (rho_AC, [False, True, False])\n",
    "marg3 = (rho_BC, [False, True, False])"
   ]
  },
  {
   "cell_type": "markdown",
   "metadata": {},
   "source": [
    "Now we have everything in place to call the main function:"
   ]
  },
  {
   "cell_type": "code",
   "execution_count": 5,
   "metadata": {
    "collapsed": false
   },
   "outputs": [],
   "source": [
    "(state, rho_g) = construct_global_state(n,d,[marg1,marg2,marg3])"
   ]
  },
  {
   "cell_type": "markdown",
   "metadata": {},
   "source": [
    "The main function returns a state that describes, whether the marginalization was feasible or not. If it was feasible, the global state is given by rho_g:"
   ]
  },
  {
   "cell_type": "code",
   "execution_count": 6,
   "metadata": {
    "collapsed": false
   },
   "outputs": [
    {
     "name": "stdout",
     "output_type": "stream",
     "text": [
      "optimal\n"
     ]
    }
   ],
   "source": [
    "print(state)"
   ]
  },
  {
   "cell_type": "code",
   "execution_count": 7,
   "metadata": {
    "collapsed": false
   },
   "outputs": [
    {
     "name": "stdout",
     "output_type": "stream",
     "text": [
      "[[ 0.19375  0.       0.       0.       0.       0.0625   0.075    0.     ]\n",
      " [ 0.       0.13125  0.       0.       0.       0.       0.       0.075  ]\n",
      " [ 0.       0.       0.11875  0.       0.       0.       0.       0.0625 ]\n",
      " [ 0.       0.       0.       0.05625  0.       0.       0.       0.     ]\n",
      " [ 0.       0.       0.       0.       0.05625  0.       0.       0.     ]\n",
      " [ 0.0625   0.       0.       0.       0.       0.11875  0.       0.     ]\n",
      " [ 0.075    0.       0.       0.       0.       0.       0.13125  0.     ]\n",
      " [ 0.       0.075    0.0625   0.       0.       0.       0.       0.19375]]\n"
     ]
    }
   ],
   "source": [
    "print(rho_g)"
   ]
  },
  {
   "cell_type": "markdown",
   "metadata": {},
   "source": [
    "Note, that you can use arbitrary combination of registers and states. A more involed example:"
   ]
  },
  {
   "cell_type": "code",
   "execution_count": 8,
   "metadata": {
    "collapsed": true
   },
   "outputs": [],
   "source": [
    "n = 4\n",
    "d = [2,4,2,2]"
   ]
  },
  {
   "cell_type": "code",
   "execution_count": 9,
   "metadata": {
    "collapsed": false
   },
   "outputs": [],
   "source": [
    "rho_AB = np.array([[ 0.19375,  0,       0,       0,       0,       0.0625,   0.075,    0,     ],\n",
    "                   [ 0,       0.13125,  0,       0,       0,       0,       0,       0.075,  ],\n",
    "                   [ 0,       0,       0.11875,  0,       0,       0,       0,       0.0625, ],\n",
    "                   [ 0,       0,       0,       0.05625, 0,       0,       0,       0,     ],\n",
    "                   [ 0,       0,       0,       0,       0.05625,  0,       0,       0,     ],\n",
    "                   [ 0.0625,   0,       0,       0,       0,       0.11875,  0,       0,     ],\n",
    "                   [ 0.075,   0,       0,       0,       0,       0,       0.13125,  0,     ],\n",
    "                   [ 0,       0.075,    0.0625,   0,       0,       0,       0,       0.19375]])\n",
    "rho_ACD = np.array([[ 0.3,    0,     0,    0,    0,    0.125,  0.15,   0 ],\n",
    "                    [ 0,    0.1, 0.076,    0,    0,    0,     0,     0.15 ],\n",
    "                    [ 0,    0.076,  0.075, 0,    0,    0,     0,     0.125],\n",
    "                    [ 0,    0,    0,     0.025,  0,     0,    0,    0,   ],\n",
    "                    [ 0,    0,    0,     0,     0.025,  0,     0,    0,   ],\n",
    "                    [ 0.125,  0,     0,     0,    0,     0.075,  0.076,  0   ],\n",
    "                    [ 0.15,   0,     0,     0,    0,     0.076,  0.1,    0   ],\n",
    "                    [ 0,     0.15,   0.125, 0,    0,     0,     0,     0.3  ]])"
   ]
  },
  {
   "cell_type": "code",
   "execution_count": 10,
   "metadata": {
    "collapsed": false
   },
   "outputs": [],
   "source": [
    "marg1 = (rho_AB, [False, False, True, True])\n",
    "marg2 = (rho_ACD, [False, True, False, False])"
   ]
  },
  {
   "cell_type": "code",
   "execution_count": 11,
   "metadata": {
    "collapsed": false
   },
   "outputs": [],
   "source": [
    "(state, rho_2) = construct_global_state(n,d,[marg1,marg2])"
   ]
  },
  {
   "cell_type": "code",
   "execution_count": 12,
   "metadata": {
    "collapsed": false
   },
   "outputs": [
    {
     "name": "stdout",
     "output_type": "stream",
     "text": [
      "optimal\n"
     ]
    }
   ],
   "source": [
    "print(state)"
   ]
  },
  {
   "cell_type": "markdown",
   "metadata": {},
   "source": [
    "The density matrix of this system is quite large, so it is not easy to print. But this is just, how it is. It can't be helped."
   ]
  },
  {
   "cell_type": "code",
   "execution_count": 13,
   "metadata": {
    "collapsed": false
   },
   "outputs": [
    {
     "name": "stdout",
     "output_type": "stream",
     "text": [
      "[[  1.33518125e-01   6.50687842e-17   5.10537908e-17 ...,   2.85055281e-17\n",
      "    2.60408629e-17   1.94478714e-18]\n",
      " [  6.50687842e-17   2.81270116e-02   2.23244347e-02 ...,  -7.07225787e-17\n",
      "   -7.73163279e-17  -1.50206740e-17]\n",
      " [  5.10537908e-17   2.23244347e-02   2.29864590e-02 ...,  -5.93555578e-17\n",
      "   -6.13659269e-17  -4.23608741e-17]\n",
      " ..., \n",
      " [  2.85055281e-17  -7.07225787e-17  -5.93555578e-17 ...,   2.29864590e-02\n",
      "    2.23244347e-02   6.82596666e-17]\n",
      " [  2.60408629e-17  -7.73163279e-17  -6.13659269e-17 ...,   2.23244347e-02\n",
      "    2.81270116e-02   8.22343395e-17]\n",
      " [  1.94478714e-18  -1.50206740e-17  -4.23608741e-17 ...,   6.82596666e-17\n",
      "    8.22343395e-17   1.33518125e-01]]\n"
     ]
    }
   ],
   "source": [
    "print(rho_2)"
   ]
  },
  {
   "cell_type": "markdown",
   "metadata": {},
   "source": [
    "### Usability ###\n",
    "If you use the function \"construct_global_state\" from the module, some sanity checks on your inputs are performed. In general, an Exceptioin will be thrown if you give inconsistent nonsense to the function. For example:"
   ]
  },
  {
   "cell_type": "code",
   "execution_count": 14,
   "metadata": {
    "collapsed": false
   },
   "outputs": [
    {
     "name": "stdout",
     "output_type": "stream",
     "text": [
      "[[ 0.35389908  0.711865    0.30203867  0.32386859]\n",
      " [ 0.96191283  0.04239862  0.19758571  0.19413676]\n",
      " [ 0.84004009  0.40273331  0.87052893  0.19389434]\n",
      " [ 0.04169802  0.10983972  0.64278896  0.35303669]]\n",
      "[[ 0.62864801  0.90309532  0.66959914  0.68972536]\n",
      " [ 0.60227811  0.83155922  0.16909896  0.16323362]\n",
      " [ 0.80688739  0.39117666  0.78362691  0.93538803]\n",
      " [ 0.95954545  0.8214042   0.80350399  0.35826368]]\n"
     ]
    }
   ],
   "source": [
    "rho_AB = np.random.rand(4,4)\n",
    "rho_AC = np.random.rand(4,4)\n",
    "print(rho_AB)\n",
    "print(rho_AC)"
   ]
  },
  {
   "cell_type": "code",
   "execution_count": 15,
   "metadata": {
    "collapsed": false
   },
   "outputs": [
    {
     "ename": "Exception",
     "evalue": "(<class 'ValueError'>, 'One of the given marginals is not a valid density operator!')",
     "output_type": "error",
     "traceback": [
      "\u001b[1;31m---------------------------------------------------------------------------\u001b[0m",
      "\u001b[1;31mException\u001b[0m                                 Traceback (most recent call last)",
      "\u001b[1;32m<ipython-input-15-825797404b09>\u001b[0m in \u001b[0;36m<module>\u001b[1;34m()\u001b[0m\n\u001b[0;32m      3\u001b[0m \u001b[0mmarg1\u001b[0m \u001b[1;33m=\u001b[0m \u001b[1;33m(\u001b[0m\u001b[0mrho_AB\u001b[0m\u001b[1;33m,\u001b[0m \u001b[1;33m[\u001b[0m\u001b[1;32mFalse\u001b[0m\u001b[1;33m,\u001b[0m \u001b[1;32mFalse\u001b[0m\u001b[1;33m,\u001b[0m \u001b[1;32mTrue\u001b[0m\u001b[1;33m]\u001b[0m\u001b[1;33m)\u001b[0m\u001b[1;33m\u001b[0m\u001b[0m\n\u001b[0;32m      4\u001b[0m \u001b[0mmarg2\u001b[0m \u001b[1;33m=\u001b[0m \u001b[1;33m(\u001b[0m\u001b[0mrho_AC\u001b[0m\u001b[1;33m,\u001b[0m \u001b[1;33m[\u001b[0m\u001b[1;32mFalse\u001b[0m\u001b[1;33m,\u001b[0m \u001b[1;32mTrue\u001b[0m\u001b[1;33m,\u001b[0m \u001b[1;32mFalse\u001b[0m\u001b[1;33m]\u001b[0m\u001b[1;33m)\u001b[0m\u001b[1;33m\u001b[0m\u001b[0m\n\u001b[1;32m----> 5\u001b[1;33m \u001b[1;33m(\u001b[0m\u001b[0mstate\u001b[0m\u001b[1;33m,\u001b[0m \u001b[0mrho_g\u001b[0m\u001b[1;33m)\u001b[0m \u001b[1;33m=\u001b[0m \u001b[0mconstruct_global_state\u001b[0m\u001b[1;33m(\u001b[0m\u001b[0mn\u001b[0m\u001b[1;33m,\u001b[0m\u001b[0md\u001b[0m\u001b[1;33m,\u001b[0m\u001b[1;33m[\u001b[0m\u001b[0mmarg1\u001b[0m\u001b[1;33m,\u001b[0m\u001b[0mmarg2\u001b[0m\u001b[1;33m]\u001b[0m\u001b[1;33m)\u001b[0m\u001b[1;33m\u001b[0m\u001b[0m\n\u001b[0m",
      "\u001b[1;32m/home/crn/quantum/monogamy/monogamy.py\u001b[0m in \u001b[0;36mconstruct_global_state\u001b[1;34m(n, d, marginals, ftol)\u001b[0m\n\u001b[0;32m    193\u001b[0m     \u001b[1;32mfor\u001b[0m \u001b[1;33m(\u001b[0m\u001b[0mrho\u001b[0m\u001b[1;33m,\u001b[0m \u001b[0mm\u001b[0m\u001b[1;33m)\u001b[0m \u001b[1;32min\u001b[0m \u001b[0mmarginals\u001b[0m\u001b[1;33m:\u001b[0m\u001b[1;33m\u001b[0m\u001b[0m\n\u001b[0;32m    194\u001b[0m         \u001b[1;32mif\u001b[0m \u001b[1;32mnot\u001b[0m \u001b[0mis_density_operator\u001b[0m\u001b[1;33m(\u001b[0m\u001b[0mrho\u001b[0m\u001b[1;33m,\u001b[0m \u001b[0mftol\u001b[0m\u001b[1;33m)\u001b[0m\u001b[1;33m:\u001b[0m\u001b[1;33m\u001b[0m\u001b[0m\n\u001b[1;32m--> 195\u001b[1;33m             \u001b[1;32mraise\u001b[0m \u001b[0mException\u001b[0m\u001b[1;33m(\u001b[0m\u001b[0mValueError\u001b[0m\u001b[1;33m,\u001b[0m \u001b[1;34m\"One of the given marginals is not a valid density operator!\"\u001b[0m\u001b[1;33m)\u001b[0m\u001b[1;33m\u001b[0m\u001b[0m\n\u001b[0m\u001b[0;32m    196\u001b[0m \u001b[1;33m\u001b[0m\u001b[0m\n\u001b[0;32m    197\u001b[0m     \u001b[1;32mfor\u001b[0m \u001b[1;33m(\u001b[0m\u001b[0mrho\u001b[0m\u001b[1;33m,\u001b[0m \u001b[0mm\u001b[0m\u001b[1;33m)\u001b[0m \u001b[1;32min\u001b[0m \u001b[1;33m[\u001b[0m\u001b[0mmarginal\u001b[0m \u001b[1;32mfor\u001b[0m \u001b[0mmarginal\u001b[0m \u001b[1;32min\u001b[0m \u001b[0mmarginals\u001b[0m\u001b[1;33m]\u001b[0m\u001b[1;33m:\u001b[0m\u001b[1;33m\u001b[0m\u001b[0m\n",
      "\u001b[1;31mException\u001b[0m: (<class 'ValueError'>, 'One of the given marginals is not a valid density operator!')"
     ]
    }
   ],
   "source": [
    "n = 3\n",
    "d = [2,2,2]\n",
    "marg1 = (rho_AB, [False, False, True])\n",
    "marg2 = (rho_AC, [False, True, False])\n",
    "(state, rho_g) = construct_global_state(n,d,[marg1,marg2])"
   ]
  },
  {
   "cell_type": "markdown",
   "metadata": {},
   "source": [
    "Also if you mess up with the markings for the marginals, it will be uncovered:"
   ]
  },
  {
   "cell_type": "code",
   "execution_count": 16,
   "metadata": {
    "collapsed": false
   },
   "outputs": [
    {
     "name": "stdout",
     "output_type": "stream",
     "text": [
      "[[ 0.325  0.     0.     0.15 ]\n",
      " [ 0.     0.175  0.     0.   ]\n",
      " [ 0.     0.     0.175  0.   ]\n",
      " [ 0.15   0.     0.     0.325]]\n",
      "[[ 0.325  0.     0.     0.15 ]\n",
      " [ 0.     0.175  0.     0.   ]\n",
      " [ 0.     0.     0.175  0.   ]\n",
      " [ 0.15   0.     0.     0.325]]\n",
      "[[ 0.3  0.   0.   0.1]\n",
      " [ 0.   0.2  0.   0. ]\n",
      " [ 0.   0.   0.2  0. ]\n",
      " [ 0.1  0.   0.   0.3]]\n"
     ]
    }
   ],
   "source": [
    "rho_AB = np.array([[ 0.325, 0, 0, 0.15 ],\n",
    "                   [ 0, 0.175,  0,  0  ],\n",
    "                   [ 0,  0,  0.175, 0  ],\n",
    "                   [ 0.15,  0, 0, 0.325]])\n",
    "rho_AC = np.array([[ 0.325, 0, 0, 0.15 ],\n",
    "                   [ 0, 0.175,  0,  0  ],\n",
    "                   [ 0,  0,  0.175, 0  ],\n",
    "                   [ 0.15,  0, 0, 0.325]])\n",
    "rho_BC = np.array([[0.3, 0, 0, 0.1],\n",
    "                   [0, 0.2, 0, 0  ],\n",
    "                   [0,   0, 0.2, 0],\n",
    "                   [0.1, 0, 0, 0.3]])\n",
    "print(rho_AB)\n",
    "print(rho_AC)\n",
    "print(rho_BC)"
   ]
  },
  {
   "cell_type": "code",
   "execution_count": 17,
   "metadata": {
    "collapsed": false
   },
   "outputs": [
    {
     "ename": "Exception",
     "evalue": "(<class 'ValueError'>, 'The dimensions of the marginal with the traced out parameters do not match')",
     "output_type": "error",
     "traceback": [
      "\u001b[1;31m---------------------------------------------------------------------------\u001b[0m",
      "\u001b[1;31mException\u001b[0m                                 Traceback (most recent call last)",
      "\u001b[1;32m<ipython-input-17-fa4593209436>\u001b[0m in \u001b[0;36m<module>\u001b[1;34m()\u001b[0m\n\u001b[0;32m      5\u001b[0m \u001b[0mmarg2\u001b[0m \u001b[1;33m=\u001b[0m \u001b[1;33m(\u001b[0m\u001b[0mrho_AC\u001b[0m\u001b[1;33m,\u001b[0m \u001b[1;33m[\u001b[0m\u001b[1;32mFalse\u001b[0m\u001b[1;33m,\u001b[0m \u001b[1;32mTrue\u001b[0m\u001b[1;33m,\u001b[0m \u001b[1;32mFalse\u001b[0m\u001b[1;33m]\u001b[0m\u001b[1;33m)\u001b[0m\u001b[1;33m\u001b[0m\u001b[0m\n\u001b[0;32m      6\u001b[0m \u001b[0mmarg2\u001b[0m \u001b[1;33m=\u001b[0m \u001b[1;33m(\u001b[0m\u001b[0mrho_BC\u001b[0m\u001b[1;33m,\u001b[0m \u001b[1;33m[\u001b[0m\u001b[1;32mTrue\u001b[0m\u001b[1;33m,\u001b[0m \u001b[1;32mFalse\u001b[0m\u001b[1;33m,\u001b[0m \u001b[1;32mFalse\u001b[0m\u001b[1;33m]\u001b[0m\u001b[1;33m)\u001b[0m\u001b[1;33m\u001b[0m\u001b[0m\n\u001b[1;32m----> 7\u001b[1;33m \u001b[1;33m(\u001b[0m\u001b[0mstate\u001b[0m\u001b[1;33m,\u001b[0m \u001b[0mrho_g\u001b[0m\u001b[1;33m)\u001b[0m \u001b[1;33m=\u001b[0m \u001b[0mconstruct_global_state\u001b[0m\u001b[1;33m(\u001b[0m\u001b[0mn\u001b[0m\u001b[1;33m,\u001b[0m\u001b[0md\u001b[0m\u001b[1;33m,\u001b[0m\u001b[1;33m[\u001b[0m\u001b[0mmarg1\u001b[0m\u001b[1;33m,\u001b[0m\u001b[0mmarg2\u001b[0m\u001b[1;33m]\u001b[0m\u001b[1;33m)\u001b[0m\u001b[1;33m\u001b[0m\u001b[0m\n\u001b[0m",
      "\u001b[1;32m/home/crn/quantum/monogamy/monogamy.py\u001b[0m in \u001b[0;36mconstruct_global_state\u001b[1;34m(n, d, marginals, ftol)\u001b[0m\n\u001b[0;32m    198\u001b[0m         \u001b[1;31m# check whether the marginal is consistent with its bitmask\u001b[0m\u001b[1;33m\u001b[0m\u001b[1;33m\u001b[0m\u001b[0m\n\u001b[0;32m    199\u001b[0m         \u001b[1;32mif\u001b[0m \u001b[1;33m(\u001b[0m\u001b[0mnp\u001b[0m\u001b[1;33m.\u001b[0m\u001b[0mprod\u001b[0m\u001b[1;33m(\u001b[0m\u001b[1;33m[\u001b[0m\u001b[0mx\u001b[0m \u001b[1;32mfor\u001b[0m \u001b[0mx\u001b[0m\u001b[1;33m,\u001b[0m\u001b[0mb\u001b[0m \u001b[1;32min\u001b[0m \u001b[0mzip\u001b[0m\u001b[1;33m(\u001b[0m\u001b[0md\u001b[0m\u001b[1;33m,\u001b[0m\u001b[0mm\u001b[0m\u001b[1;33m)\u001b[0m \u001b[1;32mif\u001b[0m \u001b[1;32mnot\u001b[0m \u001b[0mb\u001b[0m\u001b[1;33m]\u001b[0m\u001b[1;33m)\u001b[0m\u001b[1;33m)\u001b[0m \u001b[1;33m!=\u001b[0m \u001b[0mrho\u001b[0m\u001b[1;33m.\u001b[0m\u001b[0mshape\u001b[0m\u001b[1;33m[\u001b[0m\u001b[1;36m0\u001b[0m\u001b[1;33m]\u001b[0m\u001b[1;33m:\u001b[0m\u001b[1;33m\u001b[0m\u001b[0m\n\u001b[1;32m--> 200\u001b[1;33m             \u001b[1;32mraise\u001b[0m \u001b[0mException\u001b[0m\u001b[1;33m(\u001b[0m\u001b[0mValueError\u001b[0m\u001b[1;33m,\u001b[0m \u001b[1;34m\"The dimensions of the marginal with the traced out parameters do not match\"\u001b[0m\u001b[1;33m)\u001b[0m\u001b[1;33m\u001b[0m\u001b[0m\n\u001b[0m\u001b[0;32m    201\u001b[0m \u001b[1;33m\u001b[0m\u001b[0m\n\u001b[0;32m    202\u001b[0m     \u001b[1;31m# create expression for global state\u001b[0m\u001b[1;33m\u001b[0m\u001b[1;33m\u001b[0m\u001b[0m\n",
      "\u001b[1;31mException\u001b[0m: (<class 'ValueError'>, 'The dimensions of the marginal with the traced out parameters do not match')"
     ]
    }
   ],
   "source": [
    "n = 3\n",
    "d = [2,2,2]\n",
    "#marg1 = (rho_AB, [False, False, True]) # correct\n",
    "marg1 = (rho_AB, [True, True, False]) # wrong\n",
    "marg2 = (rho_AC, [False, True, False])\n",
    "marg2 = (rho_BC, [True, False, False])\n",
    "(state, rho_g) = construct_global_state(n,d,[marg1,marg2])"
   ]
  },
  {
   "cell_type": "markdown",
   "metadata": {},
   "source": [
    "If you use the separate functions of the monogamy module (as shown in the [next example](mono.ipynb), you have to take care of sanity checks by yourself, as in this case we assume you know what you do and do not feed in wrong inputs."
   ]
  },
  {
   "cell_type": "markdown",
   "metadata": {},
   "source": [
    "### Precision and Numerical stability ###\n",
    "The monogamy module uses the Eigenvalue decomposition algorithms from NumPy, which are top-notch. However, ill-conditioned matrices might still introduce numerical errors to the process. As a consequence, all checks in monogamy are subject to a certain precision. This precision is $10^{-4}$ by default, but can be adjusted by the ftol keyword in most function calls.\n",
    "\n",
    "If you experience problems, it might be worth to calibrate this parameter. Here is an example: at the beginning of this example we computed rho_g:"
   ]
  },
  {
   "cell_type": "code",
   "execution_count": 18,
   "metadata": {
    "collapsed": false
   },
   "outputs": [
    {
     "name": "stdout",
     "output_type": "stream",
     "text": [
      "[[ 0.19375  0.       0.       0.       0.       0.0625   0.075    0.     ]\n",
      " [ 0.       0.13125  0.       0.       0.       0.       0.       0.075  ]\n",
      " [ 0.       0.       0.11875  0.       0.       0.       0.       0.0625 ]\n",
      " [ 0.       0.       0.       0.05625  0.       0.       0.       0.     ]\n",
      " [ 0.       0.       0.       0.       0.05625  0.       0.       0.     ]\n",
      " [ 0.0625   0.       0.       0.       0.       0.11875  0.       0.     ]\n",
      " [ 0.075    0.       0.       0.       0.       0.       0.13125  0.     ]\n",
      " [ 0.       0.075    0.0625   0.       0.       0.       0.       0.19375]]\n"
     ]
    }
   ],
   "source": [
    "print(rho_g)"
   ]
  },
  {
   "cell_type": "markdown",
   "metadata": {},
   "source": [
    "Also the print-command is subject to a certain precision. If you evaluate the trace of this matrix closely, you will see that it is not exactly one:"
   ]
  },
  {
   "cell_type": "code",
   "execution_count": 19,
   "metadata": {
    "collapsed": false
   },
   "outputs": [
    {
     "name": "stdout",
     "output_type": "stream",
     "text": [
      "0.999999999929\n"
     ]
    }
   ],
   "source": [
    "print(np.matrix.trace(rho_g))"
   ]
  },
  {
   "cell_type": "markdown",
   "metadata": {},
   "source": [
    "The following function of the monogamy module checks if a matrix is a valid density operator. If we set the tolerance to 0, this matrix will fail the test:"
   ]
  },
  {
   "cell_type": "code",
   "execution_count": 20,
   "metadata": {
    "collapsed": false
   },
   "outputs": [
    {
     "data": {
      "text/plain": [
       "False"
      ]
     },
     "execution_count": 20,
     "metadata": {},
     "output_type": "execute_result"
    }
   ],
   "source": [
    "from monogamy import is_density_operator\n",
    "is_density_operator(rho_g, ftol=0)"
   ]
  },
  {
   "cell_type": "markdown",
   "metadata": {},
   "source": [
    "Consequently, we have to adjust the tolerance in order for this matrix to pass as a density operator:"
   ]
  },
  {
   "cell_type": "code",
   "execution_count": 21,
   "metadata": {
    "collapsed": false
   },
   "outputs": [
    {
     "name": "stdout",
     "output_type": "stream",
     "text": [
      "False\n",
      "False\n",
      "True\n"
     ]
    }
   ],
   "source": [
    "print(is_density_operator(rho_g, ftol=10e-20))\n",
    "print(is_density_operator(rho_g, ftol=10e-10))\n",
    "print(is_density_operator(rho_g, ftol=10e-4))"
   ]
  }
 ],
 "metadata": {
  "kernelspec": {
   "display_name": "Python 3",
   "language": "python",
   "name": "python3"
  },
  "language_info": {
   "codemirror_mode": {
    "name": "ipython",
    "version": 3
   },
   "file_extension": ".py",
   "mimetype": "text/x-python",
   "name": "python",
   "nbconvert_exporter": "python",
   "pygments_lexer": "ipython3",
   "version": "3.4.3"
  }
 },
 "nbformat": 4,
 "nbformat_minor": 0
}
